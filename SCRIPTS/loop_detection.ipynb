{
 "cells": [
  {
   "attachments": {},
   "cell_type": "markdown",
   "metadata": {},
   "source": [
    "# Detecting Loop from the single runs of the environment using sequence graphs."
   ]
  },
  {
   "cell_type": "code",
   "execution_count": 7,
   "metadata": {},
   "outputs": [],
   "source": [
    "import numpy as np\n",
    "from tqdm import tqdm as tq\n",
    "import pandas as pd\n",
    "from sklearn import metrics\n",
    "from sklearn.cluster import KMeans\n",
    "from kneed import KneeLocator\n",
    "from sklearn.decomposition import PCA\n",
    "# from pyvis.network import Network\n",
    "from itertools import combinations, chain, product\n",
    "import matplotlib.pyplot as plt\n",
    "import networkx as nx\n",
    "import faiss\n",
    "\n",
    "import seaborn as sns"
   ]
  },
  {
   "cell_type": "code",
   "execution_count": 1,
   "metadata": {},
   "outputs": [],
   "source": [
    "small_1 = {\n",
    "    \"freq\": 3,\n",
    "    \"loc\": \"data/small_1/all_poses_freq_3.npy\",\n",
    "    \"desc\": \"data/small_1/all_feat.npy\",\n",
    "    # \"desc\": \"data/small/results_1/all_pca_feat.npy\",\n",
    "    \"non_gr_seqs\": [\n",
    "        \"data/small_1/results/groups/labels_sequence.npy\",\n",
    "    ],\n",
    "    \"seqs\": [\n",
    "        # \"data/small/results_1/groups/r18l4_seqvlad_seq_labels_sequence.npy\",\n",
    "        # \"data/small/results_1/groups/r18l3_gem_cat_seq_labels_sequence.npy\",\n",
    "    ],\n",
    "    \"grp_rep\": [\n",
    "        \"seq_desc/r18l4_seqvlad_features/small_1_features.npy\",\n",
    "        # \"seq_desc/r18l4_seqvlad_feature@5/small_features.npy\",\n",
    "        # \"seq_desc/r19_gem_cat_feature@5/small_features.npy\",\n",
    "    ]\n",
    "}"
   ]
  },
  {
   "cell_type": "code",
   "execution_count": 84,
   "metadata": {},
   "outputs": [],
   "source": [
    "small = {\n",
    "    \"freq\": 4,\n",
    "    \"loc\": \"data/small/all_poses_freq_4.npy\",\n",
    "    \"desc\": \"data/small/all_feat.npy\",\n",
    "    # \"desc\": \"data/small/results_1/all_pca_feat.npy\",\n",
    "    \"non_gr_seqs\": [\n",
    "        \"data/small/results_1/groups/labels_sequence.npy\",\n",
    "        \"data/small/results_1/groups/avg_pca_seq_labels_sequence.npy\",\n",
    "    ],\n",
    "    \"seqs\": [\n",
    "        \"data/small/results_1/groups/r18l4_seqvlad_seq_labels_sequence.npy\",\n",
    "        \"data/small/results_1/groups/r18l3_gem_cat_seq_labels_sequence.npy\",\n",
    "    ],\n",
    "    \"grp_rep\": [\n",
    "        \"seq_desc/r18l4_seqvlad_features/small_features.npy\",\n",
    "        \"seq_desc/r18l4_seqvlad_feature@5/small_features.npy\",\n",
    "        \"seq_desc/r19_gem_cat_feature@5/small_features.npy\",\n",
    "    ]\n",
    "}"
   ]
  },
  {
   "cell_type": "code",
   "execution_count": 106,
   "metadata": {},
   "outputs": [],
   "source": [
    "qsmall = {\n",
    "    \"freq\": 3,\n",
    "    \"loc\": \"data/qsmall/all_poses_freq_3.npy\",\n",
    "    \"desc\": \"data/qsmall/all_feat.npy\",\n",
    "    # \"desc\": \"data/qsmall/results/all_pca_feat.npy\",\n",
    "    \"non_gr_seqs\": [\n",
    "        \"data/qsmall/results/groups/labels_sequence.npy\",\n",
    "        \"data/qsmall/results/groups/avg_pca_seq_labels_sequence.npy\",\n",
    "    ],\n",
    "    \"seqs\": [\n",
    "        \"data/qsmall/results/groups/r18l4_seqvlad_seq_labels_sequence.npy\",\n",
    "        \"data/qsmall/results/groups/r18l3_gem_cat_seq_labels_sequence.npy\",\n",
    "    ],\n",
    "    \"grp_rep\": [\n",
    "        \"seq_desc/r18l4_seqvlad_features/qsmall_features.npy\",\n",
    "        \"seq_desc/r18l4_seqvlad_feature@5/qsmall_features.npy\",\n",
    "        \"seq_desc/r19_gem_cat_feature@5/qsmall_features.npy\",\n",
    "    ]\n",
    "}"
   ]
  },
  {
   "cell_type": "code",
   "execution_count": 4,
   "metadata": {},
   "outputs": [],
   "source": [
    "rsmall = {\n",
    "    \"freq\": 3,\n",
    "    \"loc\": \"data/rsmall/all_poses_freq_3.npy\",\n",
    "    \"desc\": \"data/rsmall/all_feat.npy\",\n",
    "    # \"desc\": \"data/rsmall/results/all_pca_feat.npy\",\n",
    "    \"non_gr_seqs\": [\n",
    "        \"data/rsmall/results/groups/labels_sequence.npy\",\n",
    "        \"data/rsmall/results/groups/avg_pca_seq_labels_sequence.npy\",\n",
    "    ],\n",
    "    \"seqs\": [\n",
    "        \"data/rsmall/results/groups/r18l4_seqvlad_seq_labels_sequence.npy\",\n",
    "        \"data/rsmall/results/groups/r18l3_gem_cat_seq_labels_sequence.npy\",\n",
    "    ],\n",
    "    \"grp_rep\": [\n",
    "        \"seq_desc/r18l4_seqvlad_features/rsmall_features.npy\",\n",
    "        \"seq_desc/r18l4_seqvlad_feature@5/rsmall_features.npy\",\n",
    "        \"seq_desc/r19_gem_cat_feature@5/rsmall_features.npy\",\n",
    "    ]\n",
    "}"
   ]
  },
  {
   "cell_type": "code",
   "execution_count": 85,
   "metadata": {},
   "outputs": [],
   "source": [
    "def perform_kmeans(data, k):\n",
    "\tmodel = KMeans(n_clusters=k, init=\"k-means++\",  random_state=42) # random_state=42 does something, I'm not able to understand\n",
    "\treturn model.fit(data)\n",
    "\n",
    "def kmean_score_list(data, k_list=range(2,120)):\n",
    "\tsilhouette_scores = []\n",
    "\telbow_scores = []\n",
    "\tfor k in k_list:\n",
    "\t\tmodel = perform_kmeans(data, k)  \t\t\t\t\t # applied kmeans clustering fitted estimator\n",
    "\t\tes = model.inertia_ \t\t\t\t\t\t\t\t # calculate elbow method score\n",
    "\t\tss = metrics.silhouette_score(data, model.labels_)   # calculate silhouette_score\n",
    "\t\tsilhouette_scores += [ss]\n",
    "\t\telbow_scores += [es]\n",
    "\treturn k_list, silhouette_scores, elbow_scores\n",
    "\n",
    "def top_rank_cluster_number(k_list, silhouette_scores, elbow_scores):\n",
    "\telbow = KneeLocator(k_list, elbow_scores, curve='convex', direction='decreasing').knee\n",
    "\tsilhouette = np.argmax(silhouette_scores) + 1\n",
    "\treturn elbow, silhouette\n",
    "\n",
    "def compute_cluster_number_frequency(data, iterations=100, k_list=range(2,120)):\n",
    "\tk_freq = np.zeros((2,len(k_list)+1))\n",
    "\tfor i in tq(range(iterations)):\n",
    "\t\t_, silhouette_scores, elbow_scores = kmean_score_list(data, k_list)\n",
    "\t\tprint(\"Elbow score = \", elbow_scores)\n",
    "\t\tprint(\"Silhouette score = \", silhouette_scores)\n",
    "\t\telbow_top_rank, silhouette_top_rank = top_rank_cluster_number(k_list, silhouette_scores, elbow_scores)\n",
    "\t\tk_freq[0][elbow_top_rank] += 1\n",
    "\t\tk_freq[1][silhouette_top_rank] += 1\n",
    "\tprint(k_freq)\n",
    "\treturn k_freq[0], k_freq[1]"
   ]
  },
  {
   "cell_type": "code",
   "execution_count": 86,
   "metadata": {},
   "outputs": [],
   "source": [
    "def compute_pca(feature, rel_thresh=0.01):\n",
    "\tpd_feature = pd.DataFrame(feature)\n",
    "\n",
    "\tfor col in pd_feature.columns:\n",
    "\t\tpd_feature[col] = (pd_feature[col] - pd_feature[col].mean() ) / pd_feature[col].std()\n",
    "\t\n",
    "\tprevious_percent = 0\n",
    "\tcurrent_percent = 0\n",
    "\trelative_tolerance = rel_thresh\n",
    "\tbest_components = -1\n",
    "\tfor i in range(1,min(len(feature),len(pd_feature.columns))):\n",
    "\t\tpca = PCA(n_components=i)\n",
    "\t\tpca_result = pca.fit_transform(pd_feature)\n",
    "\t\tcurrent_percent = np.sum(pca.explained_variance_ratio_)\n",
    "\t\tif current_percent-previous_percent>relative_tolerance:\n",
    "\t\t\tprevious_percent = current_percent\n",
    "\t\t\tbest_components = i\n",
    "\t\telse:\n",
    "\t\t\tbreak\n",
    "\tprint(\"Relevant top\", best_components, \" pca-components! They got Cumulative variance = \", 100*current_percent)\n",
    "\tprint(\"Variation per principal component:\\n\",pca.explained_variance_ratio_)\n",
    "\treturn pca_result, pca"
   ]
  },
  {
   "cell_type": "code",
   "execution_count": 87,
   "metadata": {},
   "outputs": [],
   "source": [
    "class SeqGraph:\n",
    "\t\"\"\"\n",
    "\tclass to build a graph for the sequence as node\n",
    "\tand edges weight will be similarity between the\n",
    "\tsequence representatives.\n",
    "\t\"\"\"\n",
    "\tdef __init__(self, seq_id, seq_label,seq_color, seq_rep):\n",
    "\t\tself.seq_id = seq_id\n",
    "\t\tself.seq_rep = seq_rep\n",
    "\t\tself.seq_label = seq_label\n",
    "\t\tself.seq_color = seq_color\n",
    "\t\tself.net = None\n",
    "\t\tself.possible_metric = [\"EXP_DOT\", \"NEG_EXP_ED\", \"DOT\", \"NEG_ED\"]\n",
    "\t\n",
    "\tdef _get_similitude(self,A,B,metric):\n",
    "\t\tassert metric in self.possible_metric\n",
    "\t\tif metric==\"DOT\":\n",
    "\t\t\tdt = A*B\n",
    "\t\t\tdt = np.sum(dt, axis=1)\n",
    "\t\t\tdt = (dt)/(np.linalg.norm(A, axis=1)*np.linalg.norm(B, axis=1))\n",
    "\t\t\treturn dt\n",
    "\t\telif metric==\"NEG_ED\":\n",
    "\t\t\tdt = (A-B)**2\n",
    "\t\t\tdt = np.sum(dt,axis=1)\n",
    "\t\t\tdt = -np.sqrt(dt)\n",
    "\t\t\treturn dt\n",
    "\t\telif metric==\"NEG_EXP_ED\":\n",
    "\t\t\tdt = (A-B)**2\n",
    "\t\t\tdt = np.sum(dt,axis=1)\n",
    "\t\t\tdt = -np.sqrt(dt)\n",
    "\t\t\treturn np.exp(dt)\n",
    "\t\telif metric==\"EXP_DOT\":\n",
    "\t\t\tdt = A*B\n",
    "\t\t\tdt = np.sum(dt, axis=1)\n",
    "\t\t\tdt = (dt)/(np.linalg.norm(A, axis=1)*np.linalg.norm(B, axis=1))\n",
    "\t\t\treturn np.exp(dt)\n",
    "\t\telse:\n",
    "\t\t\traise ValueError(\"Unknown Metric for computing similitudes.\")\n",
    "\t\n",
    "\tdef _get_edges(self, metric, ts):\n",
    "\t\tid_pairs = list(combinations(self.seq_id, 2))\n",
    "\t\tid_pairs = list(chain(*id_pairs))\n",
    "\t\tid1 = np.array(id_pairs[0::2])\n",
    "\t\tid2 = np.array(id_pairs[1::2])\n",
    "\t\tds_pairs = list(combinations(self.seq_rep, 2))\n",
    "\t\tds_pairs = list(chain(*ds_pairs))\n",
    "\t\tds1 = np.array(ds_pairs[0::2])\n",
    "\t\tds2 = np.array(ds_pairs[1::2])\n",
    "\t\tsimilitude = self._get_similitude(ds1,ds2, metric)\n",
    "\t\tid_similitude = np.vstack((id1,id2))\n",
    "\t\tid_similitude = np.vstack((id_similitude,similitude))\n",
    "\t\tordey_by_similitude = lambda x: -x[-1]\n",
    "\t\tid_similitude = np.array(sorted(id_similitude.T, key=ordey_by_similitude))\n",
    "\t\t# pair_len = int(len(id_similitude)*edge_percent)\n",
    "\t\tpair_idx = id_similitude[:,-1] >= ts\n",
    "\t\t# print(id_similitude)\n",
    "\t\t# return np.array(id_similitude[:pair_len])\n",
    "\t\treturn np.array(id_similitude[pair_idx])\n",
    "\t\t\n",
    "\t\n",
    "\tdef build_graph(self, ts=1,metric=\"DOT\"):\n",
    "\t\tG = nx.Graph()\n",
    "\t\tG.add_nodes_from(\n",
    "\t\t\tself.seq_id,\n",
    "\t\t\t# label=self.seq_label,\n",
    "\t\t\ttitle=self.seq_label,\n",
    "\t\t\tcolor= self.seq_color\n",
    "\t\t)\n",
    "\t\tedges = self._get_edges(metric, ts)\n",
    "\t\tedges = list(map(tuple, edges))\n",
    "\t\tG.add_weighted_edges_from(edges)\n",
    "\t\tself.net = G\n",
    "\t\treturn self.net"
   ]
  },
  {
   "cell_type": "code",
   "execution_count": 88,
   "metadata": {},
   "outputs": [],
   "source": [
    "class LoopDetection():\n",
    "\tdef __init__(self, runs, tg=1, ts=1, model=\"seqvlad\", seq_len=5):\n",
    "\t\tself.runs=runs\n",
    "\t\tself.tg=tg\n",
    "\t\tself.ts=ts\n",
    "\t\tself.all_locs = []\n",
    "\t\tself.all_desc = []\n",
    "\t\tself.all_env_loc_count = []\n",
    "\t\tself.all_seqs_rep = []\n",
    "\t\tself.all_run_seq_count = []\n",
    "\t\tself.all_label_seqs = []\n",
    "\t\tself.possible_models = [\"seqvlad\", \"r18l3_gem_cat\"]\n",
    "\t\tassert model in self.possible_models\n",
    "\t\tself.model=model\n",
    "\t\tself.seq_pca_mat = None\n",
    "\t\tself.all_pca_seqs_rep = None\n",
    "\t\tself.seq_graph = None\n",
    "\t\tself.loop_pairs = None\n",
    "\t\tself.possible_metric = [\"EXP_DOT\", \"NEG_EXP_ED\", \"DOT\", \"NEG_ED\"]\n",
    "\t\tself.seq_len=seq_len\n",
    "\t\n",
    "\tdef init_raw_info(self):\n",
    "\t\tfor run in self.runs:\n",
    "\t\t\tpos = np.load(run[\"loc\"])\n",
    "\t\t\tdes = np.load(run[\"desc\"])\n",
    "\t\t\tself.all_locs.extend(pos)\n",
    "\t\t\tself.all_desc.extend(des)\n",
    "\t\t\tself.all_env_loc_count.append(len(pos))\n",
    "\t\tself.all_locs = np.asarray(self.all_locs)\n",
    "\t\tself.all_desc = np.asarray(self.all_desc)\n",
    "\t\n",
    "\tdef init_seq_info(self):\n",
    "\t\tmodel_id = self.possible_models.index(self.model)\n",
    "\t\tfor run in self.runs:\n",
    "\t\t\tlabel_seq = np.load(run[\"non_gr_seqs\"][model_id],allow_pickle=True)\n",
    "\t\t\tgroup_rep = np.load(run[\"grp_rep\"][model_id],allow_pickle=True).item()\n",
    "\t\t\tcurr_seqr = []\n",
    "\t\t\tcurr_label_seq = []\n",
    "\t\t\tfor label_idx, label in enumerate(label_seq):\n",
    "\t\t\t\tfor seq_idx, seq in enumerate(label):\n",
    "\t\t\t\t\t[s,e] = seq\n",
    "\t\t\t\t\tseq_id = str(label_idx)+\"_\"+str(seq_idx)\n",
    "\t\t\t\t\tif group_rep.get('test'+str(seq_id)) is not None:\n",
    "\t\t\t\t\t\tcurr_seqr.append(group_rep[\"test\"+seq_id])\n",
    "\t\t\t\t\t\tcurr_label_seq.append(seq)\n",
    "\t\t\tself.all_run_seq_count.append(len(curr_seqr))\n",
    "\t\t\tself.all_label_seqs.extend(curr_label_seq)\n",
    "\t\t\tself.all_seqs_rep.extend(curr_seqr)\n",
    "\t\tself.all_seqs_rep = np.asarray(self.all_seqs_rep)\n",
    "\t\tself.all_label_seqs = np.asarray(self.all_label_seqs)\n",
    "\t\n",
    "\tdef reduce_seq_rep(self, X=None):\n",
    "\t\tif X is None:\n",
    "\t\t\tX = self.all_seqs_rep\n",
    "\t\t_,self.seq_pca_mat = compute_pca(X, 0.001)\n",
    "\t\tself.all_pca_seqs_rep = self.seq_pca_mat.transform(self.all_seqs_rep)\n",
    "\t\n",
    "\tdef _initialise_seq_graph(self, ts):\n",
    "\t\tseq_id = np.array(range(len(self.all_label_seqs)))\n",
    "\t\tseq_color = np.array([ i+1 for i in range(len(self.all_run_seq_count)) for _ in range(self.all_run_seq_count[i])  ])\n",
    "\t\tseq_label = np.array([ \n",
    "\t\t\tstr(seq_color[i])+\"[\"+str(self.all_label_seqs[i][0])+\":\"+str(str(self.all_label_seqs[i][1]))+\"]\" for i in range(len(self.all_label_seqs))])\n",
    "\t\tself.seq_graph = SeqGraph(seq_id, seq_color, seq_label, self.all_pca_seqs_rep)\n",
    "\t\tself.seq_net = self.seq_graph.build_graph(ts)\n",
    "\t\n",
    "\tdef visualise_seq_network(self):\n",
    "\t\tfig = plt.figure(1, figsize=(10, 8))\n",
    "\t\t# nx.draw(self.seq_net, with_labels=True)\n",
    "\t\tedges = self.seq_net.edges.data()\n",
    "\t\tfor edge in edges:\n",
    "\t\t\t(seq_id1, seq_id2, _) = edge\n",
    "\t\t\tpose1_id = self.all_label_seqs[int(seq_id1)][0]\n",
    "\t\t\tpose2_id = self.all_label_seqs[int(seq_id2)][0]\n",
    "\t\t\tpose1 = self.all_locs[pose1_id]\n",
    "\t\t\tpose2 = self.all_locs[pose2_id]\n",
    "\t\t\tplt.plot([pose1[0],pose2[0]], [pose1[1], pose2[1]], 'ro',linestyle=\"--\", alpha=0.2)\n",
    "\t\t\tplt.scatter([pose1[0],pose2[0]], [pose1[1], pose2[1]], s=60, c='b',marker='o',alpha=1)\n",
    "\t\t\tplt.text(pose1[0], pose1[1], str(int(seq_id1)))\n",
    "\t\t\tplt.text(pose2[0], pose2[1], str(int(seq_id2)))\n",
    "\t\tX = self.all_locs[:,0]\n",
    "\t\tY = self.all_locs[:,1]\n",
    "\t\tplt.plot(X,Y, c='g')\n",
    "\t\tplt.show()\n",
    "\n",
    "\tdef _get_gd_similitude(self,A,B,metric):\n",
    "\t\tassert metric in self.possible_metric\n",
    "\t\tif metric==\"DOT\":\n",
    "\t\t\tdt = A*B\n",
    "\t\t\tdt = np.sum(dt, axis=1)\n",
    "\t\t\tdt = (dt)/(np.linalg.norm(A,axis=1)*np.linalg.norm(B,axis=1))\n",
    "\t\t\treturn dt\n",
    "\t\telif metric==\"NEG_ED\":\n",
    "\t\t\tdt = (A-B)**2\n",
    "\t\t\tdt = np.sum(dt,axis=1)\n",
    "\t\t\tdt = -np.sqrt(dt)\n",
    "\t\t\treturn dt\n",
    "\t\telif metric==\"NEG_EXP_ED\":\n",
    "\t\t\tdt = (A-B)**2\n",
    "\t\t\tdt = np.sum(dt,axis=1)\n",
    "\t\t\tdt = -np.sqrt(dt)\n",
    "\t\t\treturn np.exp(dt)\n",
    "\t\telif metric==\"EXP_DOT\":\n",
    "\t\t\tdt = A*B\n",
    "\t\t\tdt = np.sum(dt, axis=1)\n",
    "\t\t\tdt = (dt)/(np.linalg.norm(A,axis=1)*np.linalg.norm(B,axis=1))\n",
    "\t\t\treturn np.exp(dt)\n",
    "\t\telse:\n",
    "\t\t\traise ValueError(\"Unknown Metric for computing similitudes.\")\n",
    "\t\t\t\t\n",
    "\tdef _seq_seq_matching(self, seq_id1, seq_id2, metric, tg):\n",
    "\t\tlabel_seq1 = self.all_label_seqs[int(seq_id1)]\n",
    "\t\tlabel_seq2 = self.all_label_seqs[int(seq_id2)]\n",
    "\t\t# if label_seq1[1]-label_seq1[0] + 1 < self.seq_len:\n",
    "\t\t# \tprint(\"seq1 is small\")\n",
    "\t\t# \treturn []\n",
    "\t\t# if label_seq2[1]-label_seq2[0] + 1 < self.seq_len:\n",
    "\t\t# \tprint(\"seq2 is small\")\n",
    "\t\t# \treturn []\n",
    "\t\timg_pairs = product(list(range(label_seq1[0], label_seq1[1]+1)), list(range(label_seq2[0], label_seq2[1]+1)))\n",
    "\t\timg_pairs = list(chain(*img_pairs))\n",
    "\t\timsg1 = np.array(img_pairs[0::2])\n",
    "\t\timsg2 = np.array(img_pairs[1::2])\n",
    "\t\tds1 = self.all_desc[imsg1]\n",
    "\t\tds2 = self.all_desc[imsg2]\n",
    "\t\tsimilitude = self._get_gd_similitude(ds1,ds2, metric)\n",
    "\t\tid_similitude = np.vstack((imsg1, imsg2))\n",
    "\t\tid_similitude = np.vstack((id_similitude,similitude))\n",
    "\t\tid_similitude = id_similitude.T\n",
    "\t\tpair_idx = id_similitude[:,-1]>=tg\n",
    "\t\treturn id_similitude[pair_idx]\n",
    "\n",
    "\t# def _remove_temporarily_close_lp(self, lp_similitude, th=5):\n",
    "\t# \tnew_lp = []\n",
    "\t# \tfor lp in lp_similitude:\n",
    "\t# \t\tif abs(lp[0]-lp[1])<=th:\n",
    "\t# \t\t\tcontinue\n",
    "\t# \t\telse:\n",
    "\t# \t\t\tnew_lp.append(lp)\n",
    "\t# \treturn new_lp\n",
    "\t\n",
    "\tdef compute_loop_pairs(self, seq_matching_metric=\"DOT\", ts=None, tg=None):\n",
    "\t\tif ts is None:\n",
    "\t\t\tts = self.ts\n",
    "\t\tif tg is None:\n",
    "\t\t\ttg=self.tg\n",
    "\t\tself.loop_pairs = []\n",
    "\t\tself._initialise_seq_graph(ts)\n",
    "\t\tedges = self.seq_net.edges.data()\n",
    "\t\tfor edge in edges:\n",
    "\t\t\t(seq_id1, seq_id2, _) = edge\n",
    "\t\t\tlp_similitude = self._seq_seq_matching(seq_id1, seq_id2, seq_matching_metric, tg)\n",
    "\t\t\tself.loop_pairs.extend(lp_similitude)\n",
    "\t\t\t# self.loop_pairs.extend(self._remove_temporarily_close_lp(lp_similitude))\n",
    "\t\treturn self.loop_pairs\n"
   ]
  },
  {
   "cell_type": "code",
   "execution_count": 8,
   "metadata": {},
   "outputs": [
    {
     "name": "stdout",
     "output_type": "stream",
     "text": [
      "Relevant top 52  pca-components! They got Cumulative variance =  99.56769943237305\n",
      "Variation per principal component:\n",
      " [0.22324838 0.1835732  0.12667069 0.06966002 0.06116341 0.04516444\n",
      " 0.03298738 0.0256974  0.02174272 0.01591714 0.0148529  0.01361219\n",
      " 0.01219919 0.01041684 0.0099675  0.00893704 0.00771956 0.0070011\n",
      " 0.00686629 0.0065562  0.0059571  0.0058365  0.00514208 0.00501727\n",
      " 0.00468196 0.00443742 0.00427219 0.00406826 0.00375611 0.00353953\n",
      " 0.00340277 0.00321447 0.00302726 0.00279445 0.00276753 0.00252349\n",
      " 0.00242212 0.00236617 0.00222737 0.0020223  0.00194875 0.00182677\n",
      " 0.00168369 0.00159057 0.00155867 0.00141702 0.00140108 0.00131355\n",
      " 0.00122213 0.00118277 0.00111069 0.00104061 0.00095083]\n"
     ]
    }
   ],
   "source": [
    "\n",
    "small_1_ld = LoopDetection([small_1])\n",
    "small_1_ld.init_raw_info()\n",
    "small_1_ld.init_seq_info()\n",
    "small_1_ld.reduce_seq_rep()"
   ]
  },
  {
   "cell_type": "code",
   "execution_count": 107,
   "metadata": {},
   "outputs": [
    {
     "name": "stdout",
     "output_type": "stream",
     "text": [
      "Relevant top 39  pca-components! They got Cumulative variance =  99.99999403953552\n",
      "Variation per principal component:\n",
      " [0.26416856 0.18458927 0.08971929 0.06442781 0.05973225 0.04706445\n",
      " 0.0279078  0.02609109 0.02407326 0.02036312 0.01841812 0.01601726\n",
      " 0.01510283 0.01205971 0.01165419 0.01070052 0.00927029 0.00915121\n",
      " 0.00845291 0.00756436 0.00674047 0.00644273 0.00614196 0.00538273\n",
      " 0.00516132 0.00479698 0.00448946 0.0039419  0.0036348  0.00355448\n",
      " 0.00330786 0.00316319 0.00307919 0.00274803 0.00268523 0.00250261\n",
      " 0.0021632  0.0019558  0.00157974]\n"
     ]
    }
   ],
   "source": [
    "# small_ld = LoopDetection([small])\n",
    "# small_ld.init_raw_info()\n",
    "# small_ld.init_seq_info()\n",
    "# small_ld.reduce_seq_rep()\n",
    "qsmall_ld = LoopDetection([qsmall])\n",
    "qsmall_ld.init_raw_info()\n",
    "qsmall_ld.init_seq_info()\n",
    "qsmall_ld.reduce_seq_rep()\n",
    "# rsmall_ld = LoopDetection([rsmall])\n",
    "# rsmall_ld.init_raw_info()\n",
    "# rsmall_ld.init_seq_info()\n",
    "# rsmall_ld.reduce_seq_rep()"
   ]
  },
  {
   "cell_type": "code",
   "execution_count": null,
   "metadata": {},
   "outputs": [],
   "source": [
    "small_LP = small_ld.compute_loop_pairs(ts=0.002,tg=0.5)\n",
    "small_ld.visualise_seq_network()\n",
    "qsmall_LP = qsmall_ld.compute_loop_pairs(ts=0.002,tg=0.5)\n",
    "qsmall_ld.visualise_seq_network()\n",
    "rsmall_LP = rsmall_ld.compute_loop_pairs(ts=0.002,tg=0.5)\n",
    "rsmall_ld.visualise_seq_network()"
   ]
  },
  {
   "cell_type": "code",
   "execution_count": null,
   "metadata": {},
   "outputs": [],
   "source": [
    "small_LP = small_ld.compute_loop_pairs(ts=0.8,tg=0.7)\n",
    "print(len(small_LP))\n",
    "small_ld.visualise_seq_network()\n",
    "small_LP = small_ld.compute_loop_pairs(ts=0.9,tg=0.7)\n",
    "print(len(small_LP))\n",
    "small_ld.visualise_seq_network()\n",
    "small_LP = small_ld.compute_loop_pairs(ts=0.95,tg=0.7)\n",
    "print(len(small_LP))\n",
    "small_ld.visualise_seq_network()"
   ]
  },
  {
   "attachments": {},
   "cell_type": "markdown",
   "metadata": {},
   "source": [
    "# Evaluate the LPs"
   ]
  },
  {
   "cell_type": "code",
   "execution_count": 90,
   "metadata": {},
   "outputs": [],
   "source": [
    "def get_precision(lp, loc, r=5):\n",
    "\ttp = 0\n",
    "\tdt = {}\n",
    "\tfor (a,b,s) in lp:\n",
    "\t\tx = int(a)\n",
    "\t\ty = int(b)\n",
    "\t\tlx = loc[x]\n",
    "\t\tly = loc[y]\n",
    "\t\tif str(a)+\"-\"+str(b) in dt:\n",
    "\t\t\tcontinue\n",
    "\t\telif str(b)+\"-\"+str(a) in dt:\n",
    "\t\t\tcontinue\n",
    "\t\telse:\n",
    "\t\t\tdt[str(a)+\"-\"+str(b)]=1\n",
    "\t\tif np.sqrt(np.sum((lx-ly)**2))<=r:\n",
    "\t\t\ttp+=1\n",
    "\tif len(lp)==0:\n",
    "\t\treturn 0\n",
    "\treturn tp/len(lp)\n",
    "\n",
    "def get_recall(lp,loc,r=5):\n",
    "\tall_p = 0\n",
    "\tloc_p = list(combinations(loc, 2))\n",
    "\tfor p in loc_p:\n",
    "\t\tlx = p[0]\n",
    "\t\tly = p[1]\n",
    "\t\tif np.sqrt(np.sum((lx-ly)**2))<=r:\n",
    "\t\t\tall_p+=1\n",
    "\ttp = 0\n",
    "\tdt = {}\n",
    "\tfor (a,b,s) in lp:\n",
    "\t\tx = int(a)\n",
    "\t\ty = int(b)\n",
    "\t\tif str(a)+\"-\"+str(b) in dt:\n",
    "\t\t\tcontinue\n",
    "\t\telif str(b)+\"-\"+str(a) in dt:\n",
    "\t\t\tcontinue\n",
    "\t\telse:\n",
    "\t\t\tdt[str(a)+\"-\"+str(b)]=1\n",
    "\t\tlx = loc[x]\n",
    "\t\tly = loc[y]\n",
    "\t\tif np.sqrt(np.sum((lx-ly)**2))<=r:\n",
    "\t\t\ttp+=1\n",
    "\treturn tp/all_p\n",
    "\n",
    "def PR_curve(small_LP, small_ld_loc, title):\n",
    "\tR_P = []\n",
    "\trad = np.arange(1, 20, 1)\n",
    "\tfor r in rad:\n",
    "\t\tR_P.append([\n",
    "\t\t\tget_recall(small_LP, small_ld_loc, r),\n",
    "\t\t\tget_precision(small_LP, small_ld_loc, r)\n",
    "\t\t])\n",
    "\tR_P = np.array(sorted(R_P))\n",
    "\tfig, (ax1, ax2, ax3) = plt.subplots(1, 3)\n",
    "\tfig.set_figheight(7)\n",
    "\tfig.set_figwidth(18)\n",
    "\tax1.plot(R_P[:,0], R_P[:,1])\n",
    "\t# ax1.set(xlabel=\"Recall\", ylabel=\"Precision\")\n",
    "\tax2.plot(rad, R_P[:,0])\n",
    "\t# ax1.set(xlabel=\"Radius of GT\", ylabel=\"Recall\")\n",
    "\tax3.plot(rad, R_P[:,1])\n",
    "\t# ax1.set(xlabel=\"Radius of GT\", ylabel=\"Precision\")\n",
    "\tplt.title(title)\n",
    "\tplt.show()\n",
    "\n",
    "\n",
    "def PR12_curve(small_LP1, small_LP2, small_ld_loc, title):\n",
    "\tR_P1 = []\n",
    "\tR_P2 = []\n",
    "\trad = np.arange(1, 20, 1)\n",
    "\tfor r in rad:\n",
    "\t\tR_P1.append([\n",
    "\t\t\tget_recall(small_LP1, small_ld_loc, r),\n",
    "\t\t\tget_precision(small_LP1, small_ld_loc, r)\n",
    "\t\t])\n",
    "\t\tR_P2.append([\n",
    "\t\t\tget_recall(small_LP2, small_ld_loc, r),\n",
    "\t\t\tget_precision(small_LP2, small_ld_loc, r)\n",
    "\t\t])\n",
    "\tR_P1 = np.array(sorted(R_P1))\n",
    "\tR_P2 = np.array(sorted(R_P2))\n",
    "\tfig, (ax1, ax2, ax3) = plt.subplots(1, 3)\n",
    "\tfig.set_figheight(7)\n",
    "\tfig.set_figwidth(18)\n",
    "\tax1.plot(R_P1[:,0], R_P1[:,1])\n",
    "\tax1.plot(R_P2[:,0], R_P2[:,1])\n",
    "\tax2.plot(rad, R_P1[:,0])\n",
    "\tax2.plot(rad, R_P2[:,0])\n",
    "\tax3.plot(rad, R_P1[:,1])\n",
    "\tax3.plot(rad, R_P2[:,1])\n",
    "\tplt.title(title)\n",
    "\tplt.show()"
   ]
  },
  {
   "cell_type": "code",
   "execution_count": null,
   "metadata": {},
   "outputs": [],
   "source": [
    "PR_curve(small_LP, small_ld.all_locs, \"small-dataset\")\n",
    "PR_curve(qsmall_LP, qsmall_ld.all_locs, \"qsmall-dataset\")\n",
    "PR_curve(rsmall_LP, rsmall_ld.all_locs, \"rsmall-dataset\")"
   ]
  },
  {
   "attachments": {},
   "cell_type": "markdown",
   "metadata": {},
   "source": [
    "# Comparing sequence based system LPs vs GD based system LPs"
   ]
  },
  {
   "cell_type": "code",
   "execution_count": 91,
   "metadata": {},
   "outputs": [],
   "source": [
    "def compute_gd_lp(run, tg=1, exclude_previous_frame=5, metric=\"DOT\", pca=False):\n",
    "\tloc = np.load(run[\"loc\"])\n",
    "\tdes = np.load(run[\"desc\"]).astype('float32')\n",
    "\tif pca:\n",
    "\t\tdes, _= compute_pca(des, 0.001)\n",
    "\tlp = []\n",
    "\tfor i in range(len(loc)):\n",
    "\t\tref_set_idx = set(range(i))\n",
    "\t\tref_set_idx = list(ref_set_idx - set(range(i-exclude_previous_frame,i)))\n",
    "\t\t# ref_set_idx = list(ref_set_idx - set(range(i-exclude_previous_frame,i+exclude_previous_frame+1)))\n",
    "\t\tif len(ref_set_idx)<=0:\n",
    "\t\t\tcontinue\n",
    "\t\tref_set = des[ref_set_idx]\n",
    "\t\tquery = des[i]\n",
    "\t\tif metric==\"DOT\":\n",
    "\t\t\tdt = lambda x,y: np.sum(x*y)/(np.linalg.norm(x)*np.linalg.norm(x))\n",
    "\t\t\tcurr_lp = [ [i,rd_idx, dt(query, rd)] for rd_idx,rd in enumerate(ref_set)  if dt(query, rd)>tg ]\n",
    "\t\telse:\n",
    "\t\t\traise ValueError(\"No new metric defined\")\n",
    "\t\t# faiss_index = faiss.IndexFlatL2(len(ref_set[0]))\n",
    "\t\t# faiss_index.add(ref_set.copy(order='C'))\n",
    "\t\t# distances, predictions = faiss_index.search(np.array([query]), len(ref_set_idx))\n",
    "\t\t# curr_lp = [ [i,ref_set_idx[predictions[0][j]], distances[0][j]] for j in range(len(distances[0])) if distances[0][j]>tg ]\n",
    "\t\tlp.extend(curr_lp)\n",
    "\tlp = np.array(lp)\n",
    "\t# uniqueLP, idx_start, idx_count = np.unique(np.sort(lp[:,:2],axis=1), axis=0, return_index=True, return_counts=True)\n",
    "\treturn lp\n",
    "\t# return lp[idx_start]"
   ]
  },
  {
   "cell_type": "code",
   "execution_count": null,
   "metadata": {},
   "outputs": [],
   "source": [
    "tmp_small_LP=compute_gd_lp(small, tg=0.5)\n",
    "print(tmp_small_LP.shape)\n",
    "print(get_recall(tmp_small_LP, small_ld.all_locs))"
   ]
  },
  {
   "cell_type": "code",
   "execution_count": null,
   "metadata": {},
   "outputs": [],
   "source": [
    "print(len(small_LP))\n",
    "print(len(qsmall_LP))\n",
    "print(len(rsmall_LP))"
   ]
  },
  {
   "cell_type": "code",
   "execution_count": null,
   "metadata": {},
   "outputs": [],
   "source": [
    "gd_small_LP=compute_gd_lp(small, tg=0.5)\n",
    "gd_qsmall_LP=compute_gd_lp(qsmall, tg=0.5)\n",
    "gd_rsmall_LP=compute_gd_lp(rsmall, tg=0.5)\n",
    "print(gd_small_LP.shape)\n",
    "print(gd_qsmall_LP.shape)\n",
    "print(gd_rsmall_LP.shape)\n",
    "# plt.hist(gd_small_LP[:,-1])"
   ]
  },
  {
   "cell_type": "code",
   "execution_count": null,
   "metadata": {},
   "outputs": [],
   "source": [
    "PR12_curve(small_LP, gd_small_LP, small_ld.all_locs, \"small-dataset\")\n",
    "PR12_curve(qsmall_LP, gd_qsmall_LP, qsmall_ld.all_locs, \"qsmall-dataset\")\n",
    "PR12_curve(rsmall_LP, gd_rsmall_LP, rsmall_ld.all_locs, \"rsmall-dataset\")"
   ]
  },
  {
   "attachments": {},
   "cell_type": "markdown",
   "metadata": {},
   "source": [
    "# Fix GT-radius, check values recall of combinations of tg, ts"
   ]
  },
  {
   "cell_type": "code",
   "execution_count": 92,
   "metadata": {},
   "outputs": [],
   "source": [
    "\n",
    "\n",
    "def plot_tg_ts_PR(X,Y,P,R):\n",
    "\tdataP = []\n",
    "\tdataR = []\n",
    "\tdP1 = []\n",
    "\tdP2 = []\n",
    "\tdR1 = []\n",
    "\tdR2 = []\n",
    "\tfor i in range(len(X)):\n",
    "\t\tdataP.append([X[i],Y[i],P[i,0]-P[i,1]])\n",
    "\t\tdataR.append([X[i],Y[i],R[i,0]-R[i,1]])\n",
    "\t\tdP1.append([X[i],Y[i],P[i,0]])\n",
    "\t\tdP2.append([X[i],Y[i],P[i,1]])\n",
    "\t\tdR1.append([X[i],Y[i],R[i,0]])\n",
    "\t\tdR2.append([X[i],Y[i],R[i,1]])\n",
    "\tdfP = pd.DataFrame(dataP, columns=['tg', 'ts', 'precision diff'])\n",
    "\tdfR = pd.DataFrame(dataR, columns=['tg', 'ts', 'recall diff'])\n",
    "\tdfP1 = pd.DataFrame(dP1, columns=['tg', 'ts', 'precision'])\n",
    "\tdfP2 = pd.DataFrame(dP2, columns=['tg', 'ts', 'precision'])\n",
    "\tdfR1 = pd.DataFrame(dR1, columns=['tg', 'ts', 'recall'])\n",
    "\tdfR2 = pd.DataFrame(dR2, columns=['tg', 'ts', 'recall'])\n",
    "\tfig = plt.figure(figsize=(15,10))\n",
    "\tax = sns.heatmap( dfP.pivot(\"tg\", \"ts\", \"precision diff\"), annot=True, fmt=\".3f\" , linewidth = 0.5 , cmap = 'coolwarm' )\n",
    "\tplt.title(\"Precision comparison (seq-based precision - naive method based precision)\")\n",
    "\tplt.show()\n",
    "\tfig = plt.figure(figsize=(15,10))\n",
    "\tax = sns.heatmap( dfR.pivot(\"tg\", \"ts\", \"recall diff\"), annot=True, fmt=\".3f\" , linewidth = 0.5 , cmap = 'coolwarm' )\n",
    "\tplt.title(\"Recall comparison (seq-based recall - naive method based recall)\")\n",
    "\tplt.show()\n",
    "\n",
    "\tfig = plt.figure(figsize=(15,10))\n",
    "\tax = sns.heatmap( dfP1.pivot(\"tg\", \"ts\", \"precision\"), annot=True, fmt=\".3f\" , linewidth = 0.5 , cmap = 'coolwarm' )\n",
    "\tplt.title(\"Precision seq-based \")\n",
    "\tplt.show()\n",
    "\n",
    "\tfig = plt.figure(figsize=(15,10))\n",
    "\tax = sns.heatmap( dfP2.pivot(\"tg\", \"ts\", \"precision\"), annot=True, fmt=\".3f\" , linewidth = 0.5 , cmap = 'coolwarm' )\n",
    "\tplt.title(\"Precision naive-method-based \")\n",
    "\tplt.show()\n",
    "\n",
    "\tfig = plt.figure(figsize=(15,10))\n",
    "\tax = sns.heatmap( dfR1.pivot(\"tg\", \"ts\", \"recall\"), annot=True, fmt=\".3f\" , linewidth = 0.5 , cmap = 'coolwarm' )\n",
    "\tplt.title(\"Recall seq-based \")\n",
    "\tplt.show()\n",
    "\n",
    "\tfig = plt.figure(figsize=(15,10))\n",
    "\tax = sns.heatmap( dfR2.pivot(\"tg\", \"ts\", \"recall\"), annot=True, fmt=\".3f\" , linewidth = 0.5 , cmap = 'coolwarm' )\n",
    "\tplt.title(\"Recall naive-method-based \")\n",
    "\tplt.show()"
   ]
  },
  {
   "cell_type": "code",
   "execution_count": 93,
   "metadata": {},
   "outputs": [],
   "source": [
    "def get_lp(tg_list, ts_list,small_ld, small, rad=5):\n",
    "\tgds_LP = []\n",
    "\tseq_LP = []\n",
    "\tfor id in range(len(tg_list)):\n",
    "\t\tprint(ts_list[id], tg_list[id])\n",
    "\t\tgds_lp = compute_gd_lp(small, tg=tg_list[id])\n",
    "\t\tprint(\"id = \", id, len(gds_lp))\n",
    "\t\tgds_LP.append(gds_lp)\n",
    "\t\tseq_lp = small_ld.compute_loop_pairs(ts=ts_list[id],tg=tg_list[id])\n",
    "\t\tprint(\"id = \", id, len(seq_lp))\n",
    "\t\tseq_LP.append(seq_lp)\n",
    "\treturn gds_LP, seq_LP\n"
   ]
  },
  {
   "cell_type": "code",
   "execution_count": 94,
   "metadata": {},
   "outputs": [],
   "source": [
    "def PR_tg_ts_combinations(tg_list, ts_list,small_ld, small, rad=5):\n",
    "\tP = []\n",
    "\tR = []\n",
    "\tX,Y=[],[]\n",
    "\tfor tg in tg_list:\n",
    "\t\tgds_LP = compute_gd_lp(small, tg=tg)\n",
    "\t\tgds_pr = get_precision(gds_LP, small_ld.all_locs, rad)\n",
    "\t\tgds_rc = get_recall(gds_LP, small_ld.all_locs, rad)\n",
    "\t\tfor ts in tq(ts_list):\n",
    "\t\t\tseq_LP = small_ld.compute_loop_pairs(ts=ts,tg=tg)\n",
    "\t\t\t# print(\"ts = \",ts, \" tg = \", tg, \" seq_LP = \", len(seq_LP))\n",
    "\t\t\tseq_pr = get_precision(seq_LP, small_ld.all_locs, rad)\n",
    "\t\t\tseq_rc = get_recall(seq_LP, small_ld.all_locs, rad)\n",
    "\t\t\tP.append([seq_pr, gds_pr])\n",
    "\t\t\tR.append([seq_rc, gds_rc])\n",
    "\t\t\tX.append(tg)\n",
    "\t\t\tY.append(ts)\n",
    "\tP = np.array(P)\n",
    "\tR = np.array(R)\n",
    "\treturn X,Y,P,R\n"
   ]
  },
  {
   "cell_type": "code",
   "execution_count": 14,
   "metadata": {},
   "outputs": [],
   "source": [
    "def print_file(name, freq,gd_lp, seq_lp, tg_list, ts_list):\n",
    "    # print(tg_list, ts_list)\n",
    "    # print(len(gd_lp), len(seq_lp))\n",
    "    # return\n",
    "    for idx in range(len(gd_lp)):\n",
    "        # print(\"idx= \",idx)\n",
    "        f = open(name+str(idx+1),'w')\n",
    "        f.write(\"frame_freq \"+str(freq)+\"\\n\")\n",
    "        f.write(\"tg = \"+str(tg_list[idx])+\"\\n\")\n",
    "        f.write(\"ts = \"+str(ts_list[idx])+\"\\n\")\n",
    "        f.write(\"naive_loop_pairs format : i j global_descriptor_similarity\"+\"\\n\")\n",
    "        for p in gd_lp[idx]:\n",
    "            # print(p)\n",
    "            [i,j,k]=p\n",
    "            f.write(str(int(i))+\" \"+str(int(j))+\" \"+str(k)+\"\\n\")\n",
    "        f.write(\"seqs_based_loop_pairs format : i j global_descriptor_similarity\"+\"\\n\")\n",
    "        for p in seq_lp[idx]:\n",
    "            [i,j,k]=p\n",
    "            f.write(str(int(i))+\" \"+str(int(j))+\" \"+str(k)+\"\\n\")\n",
    "        f.close()"
   ]
  },
  {
   "cell_type": "code",
   "execution_count": 21,
   "metadata": {},
   "outputs": [
    {
     "name": "stdout",
     "output_type": "stream",
     "text": [
      "0.85 0.6\n",
      "id =  0 6008\n",
      "id =  0 3309\n",
      "0.85 0.7\n",
      "id =  1 803\n",
      "id =  1 664\n",
      "0.85 0.8\n",
      "id =  2 25\n",
      "id =  2 37\n"
     ]
    }
   ],
   "source": [
    "small_1_gds_LP, small_1_seq_LP= get_lp(  [0.6, 0.7, 0.8], [0.85, 0.85, 0.85], small_1_ld, small_1)"
   ]
  },
  {
   "cell_type": "code",
   "execution_count": 22,
   "metadata": {},
   "outputs": [],
   "source": [
    "print_file(\"small_1_LP.txt\", small_1[\"freq\"], small_1_gds_LP, small_1_seq_LP,  [0.6, 0.7, 0.8], [0.85, 0.85, 0.85])"
   ]
  },
  {
   "cell_type": "code",
   "execution_count": null,
   "metadata": {},
   "outputs": [],
   "source": [
    "small_gds_LP, small_seq_LP= get_lp( [0.6, 0.7, 0.8][-1:], [0.85, 0.85, 0.85][-1:], small_ld, small)\n",
    "qsmall_gds_LP, qsmall_seq_LP= get_lp(  [0.6, 0.7, 0.8][-1:], [0.85, 0.85, 0.85][-1:], qsmall_ld, qsmall)\n",
    "rsmall_gds_LP, rsmall_seq_LP= get_lp(  [0.6, 0.7, 0.8][-1:], [0.85, 0.85, 0.85][-1:], rsmall_ld, rsmall)"
   ]
  },
  {
   "cell_type": "code",
   "execution_count": null,
   "metadata": {},
   "outputs": [],
   "source": [
    "print_file(\"small_LP.txt\", small[\"freq\"], small_gds_LP, small_seq_LP,  [0.6, 0.7, 0.8][-1:], [0.85, 0.85, 0.85][-1:])\n",
    "print_file(\"qsmall_LP.txt\", qsmall[\"freq\"], qsmall_gds_LP, qsmall_seq_LP, [0.6, 0.7, 0.8][-1:], [0.85, 0.85, 0.85][-1:])\n",
    "print_file(\"rsmall_LP.txt\", rsmall[\"freq\"], rsmall_gds_LP, rsmall_seq_LP,  [0.6, 0.7, 0.8][-1:], [0.85, 0.85, 0.85][-1:])"
   ]
  },
  {
   "cell_type": "code",
   "execution_count": 95,
   "metadata": {},
   "outputs": [
    {
     "name": "stdout",
     "output_type": "stream",
     "text": [
      "TG list =  [0.2  0.24 0.28 0.32 0.36 0.4  0.44 0.48 0.52 0.56 0.6  0.64 0.68 0.72\n",
      " 0.76 0.8 ]\n",
      "TS list =  [0.1  0.14 0.18 0.22 0.26 0.3  0.34 0.38 0.42 0.46 0.5  0.54 0.58 0.62\n",
      " 0.66 0.7  0.74 0.78]\n"
     ]
    }
   ],
   "source": [
    "TS = np.arange(0.1, 0.8, 0.04)\n",
    "TG = np.arange(0.2, 0.8, 0.04)\n",
    "print(\"TG list = \",TG)\n",
    "print(\"TS list = \",TS)"
   ]
  },
  {
   "cell_type": "code",
   "execution_count": null,
   "metadata": {},
   "outputs": [],
   "source": [
    "print(len(small_ld.all_locs))"
   ]
  },
  {
   "cell_type": "code",
   "execution_count": 19,
   "metadata": {},
   "outputs": [
    {
     "name": "stderr",
     "output_type": "stream",
     "text": [
      "100%|██████████| 18/18 [00:48<00:00,  2.69s/it]\n",
      "100%|██████████| 18/18 [00:39<00:00,  2.20s/it]\n",
      "100%|██████████| 18/18 [00:34<00:00,  1.92s/it]\n",
      "100%|██████████| 18/18 [00:35<00:00,  1.96s/it]\n",
      "100%|██████████| 18/18 [00:33<00:00,  1.84s/it]\n",
      "100%|██████████| 18/18 [00:30<00:00,  1.72s/it]\n",
      "100%|██████████| 18/18 [00:31<00:00,  1.73s/it]\n",
      "100%|██████████| 18/18 [00:28<00:00,  1.56s/it]\n",
      "100%|██████████| 18/18 [00:25<00:00,  1.41s/it]\n",
      "100%|██████████| 18/18 [00:22<00:00,  1.25s/it]\n",
      "100%|██████████| 18/18 [00:20<00:00,  1.14s/it]\n",
      "100%|██████████| 18/18 [00:13<00:00,  1.29it/s]\n",
      "100%|██████████| 18/18 [00:11<00:00,  1.62it/s]\n",
      "100%|██████████| 18/18 [00:10<00:00,  1.79it/s]\n",
      "100%|██████████| 18/18 [00:09<00:00,  1.80it/s]\n",
      "100%|██████████| 18/18 [00:10<00:00,  1.79it/s]\n"
     ]
    }
   ],
   "source": [
    "X_1,Y_1,P_1,R_1= PR_tg_ts_combinations(TG, TS, small_1_ld, small_1)"
   ]
  },
  {
   "cell_type": "code",
   "execution_count": 96,
   "metadata": {},
   "outputs": [
    {
     "name": "stderr",
     "output_type": "stream",
     "text": [
      "100%|██████████| 18/18 [00:26<00:00,  1.49s/it]\n",
      "100%|██████████| 18/18 [00:40<00:00,  2.25s/it]\n",
      "100%|██████████| 18/18 [00:35<00:00,  2.00s/it]\n",
      "100%|██████████| 18/18 [00:37<00:00,  2.06s/it]\n",
      "100%|██████████| 18/18 [00:21<00:00,  1.17s/it]\n",
      "100%|██████████| 18/18 [00:28<00:00,  1.56s/it]\n",
      "100%|██████████| 18/18 [00:17<00:00,  1.02it/s]\n",
      "100%|██████████| 18/18 [00:25<00:00,  1.39s/it]\n",
      "100%|██████████| 18/18 [00:14<00:00,  1.26it/s]\n",
      "100%|██████████| 18/18 [00:13<00:00,  1.37it/s]\n",
      "100%|██████████| 18/18 [00:18<00:00,  1.00s/it]\n",
      "100%|██████████| 18/18 [00:11<00:00,  1.62it/s]\n",
      "100%|██████████| 18/18 [00:15<00:00,  1.17it/s]\n",
      "100%|██████████| 18/18 [00:13<00:00,  1.34it/s]\n",
      "100%|██████████| 18/18 [00:15<00:00,  1.14it/s]\n",
      "100%|██████████| 18/18 [00:11<00:00,  1.50it/s]\n"
     ]
    }
   ],
   "source": [
    "# TG = [0.52, 0.605, 0.646, 0.736]\n",
    "# TS = [0.5]\n",
    "X,Y,P,R= PR_tg_ts_combinations(TG, TS, small_ld, small)\n",
    "# TG = [0.5183, 0.605, 0.6444, 0.736]\n",
    "# TS = [0.7]\n",
    "# X7,Y7,P7,R7= PR_tg_ts_combinations(TG, TS, small_ld, small)"
   ]
  },
  {
   "cell_type": "code",
   "execution_count": 24,
   "metadata": {},
   "outputs": [
    {
     "name": "stdout",
     "output_type": "stream",
     "text": [
      "[0.52, 0.605, 0.646, 0.736, 0.5183, 0.605, 0.6444, 0.736]\n",
      "[0.5, 0.5, 0.5, 0.5, 0.5, 0.5, 0.5, 0.5]\n",
      "[[0.37156324 0.35523581]\n",
      " [0.44465926 0.41985887]\n",
      " [0.48651349 0.44312026]\n",
      " [0.73       0.61971831]]\n",
      "[[0.20295203 0.19068051]\n",
      " [0.07894963 0.07148374]\n",
      " [0.04179181 0.03509826]\n",
      " [0.00626448 0.00377585]]\n"
     ]
    }
   ],
   "source": [
    "print(X)\n",
    "print(Y)\n",
    "print(P5)\n",
    "print(R5)"
   ]
  },
  {
   "cell_type": "code",
   "execution_count": 108,
   "metadata": {},
   "outputs": [
    {
     "name": "stderr",
     "output_type": "stream",
     "text": [
      "100%|██████████| 18/18 [01:13<00:00,  4.09s/it]\n",
      "100%|██████████| 18/18 [01:02<00:00,  3.49s/it]\n",
      "100%|██████████| 18/18 [00:52<00:00,  2.89s/it]\n",
      "100%|██████████| 18/18 [00:48<00:00,  2.69s/it]\n",
      "100%|██████████| 18/18 [00:50<00:00,  2.82s/it]\n",
      "100%|██████████| 18/18 [00:35<00:00,  1.98s/it]\n",
      "100%|██████████| 18/18 [00:39<00:00,  2.18s/it]\n",
      "100%|██████████| 18/18 [00:31<00:00,  1.73s/it]\n",
      "100%|██████████| 18/18 [00:30<00:00,  1.71s/it]\n",
      "100%|██████████| 18/18 [00:35<00:00,  1.98s/it]\n",
      "100%|██████████| 18/18 [00:30<00:00,  1.70s/it]\n",
      "100%|██████████| 18/18 [00:25<00:00,  1.40s/it]\n",
      "100%|██████████| 18/18 [00:11<00:00,  1.56it/s]\n",
      "100%|██████████| 18/18 [00:15<00:00,  1.14it/s]\n",
      "100%|██████████| 18/18 [00:15<00:00,  1.14it/s]\n",
      "100%|██████████| 18/18 [00:15<00:00,  1.15it/s]\n"
     ]
    }
   ],
   "source": [
    "qX,qY,qP,qR= PR_tg_ts_combinations(TG, TS, qsmall_ld, qsmall)\n",
    "\n",
    "# TG = [0.54, 0.618, 0.658, 0.77]\n",
    "# TS = [0.5]\n",
    "# qX5,qY5,qP5,qR5= PR_tg_ts_combinations(TG, TS, qsmall_ld, qsmall)\n",
    "# TG = [0.5335, 0.615, 0.655, 0.77]\n",
    "# TS = [0.7]\n",
    "# qX7,qY7,qP7,qR7= PR_tg_ts_combinations(TG, TS, qsmall_ld, qsmall)"
   ]
  },
  {
   "cell_type": "code",
   "execution_count": 85,
   "metadata": {},
   "outputs": [
    {
     "name": "stderr",
     "output_type": "stream",
     "text": [
      "100%|██████████| 1/1 [00:01<00:00,  1.04s/it]\n",
      "100%|██████████| 1/1 [00:00<00:00,  1.18it/s]\n",
      "100%|██████████| 1/1 [00:01<00:00,  1.29s/it]\n",
      "100%|██████████| 1/1 [00:00<00:00,  1.08it/s]\n",
      "100%|██████████| 1/1 [00:03<00:00,  3.67s/it]\n",
      "100%|██████████| 1/1 [00:00<00:00,  1.35it/s]\n",
      "100%|██████████| 1/1 [00:00<00:00,  1.37it/s]\n",
      "100%|██████████| 1/1 [00:00<00:00,  1.30it/s]\n"
     ]
    }
   ],
   "source": [
    "TG = [0.54, 0.618, 0.658, 0.77]\n",
    "TS = [0.5]\n",
    "rX5,rY5,rP5,rR5= PR_tg_ts_combinations(TG, TS, rsmall_ld, rsmall)\n",
    "TG = [0.5335, 0.615, 0.655, 0.77]\n",
    "TS = [0.7]\n",
    "rX7,rY7,rP7,rR7= PR_tg_ts_combinations(TG, TS, rsmall_ld, rsmall)"
   ]
  },
  {
   "cell_type": "code",
   "execution_count": 20,
   "metadata": {},
   "outputs": [
    {
     "name": "stdout",
     "output_type": "stream",
     "text": [
      "qsmall Diff. Precision =  0.0640726391010478\n",
      "qsmall Diff. Recall =  0.0033854071890429735\n",
      "qsmall Diff. Precision =  0.36374550124199106 0.2996728621409433\n",
      "qsmall Diff. Recall =  0.4425367883441909 0.43915138115514796\n"
     ]
    }
   ],
   "source": [
    "s=0\n",
    "t=len(P_1)\n",
    "print(\"qsmall Diff. Precision = \", (np.sum(P_1[s:t,0])-np.sum(P_1[s:t,1]))/len(P_1))\n",
    "print(\"qsmall Diff. Recall = \", (np.sum(R_1[s:t,0])-np.sum(R_1[s:t,1]))/len(R_1))\n",
    "print(\"qsmall Diff. Precision = \", np.sum(P_1[:,0])/len(P_1),(np.sum(P_1[:,1]))/len(P_1))\n",
    "print(\"qsmall Diff. Recall = \", np.sum(R_1[:,0])/len(P_1),(np.sum(R_1[:,1]))/len(R_1))"
   ]
  },
  {
   "cell_type": "code",
   "execution_count": 97,
   "metadata": {},
   "outputs": [
    {
     "name": "stdout",
     "output_type": "stream",
     "text": [
      "small Diff. Precision =  0.026797872769459455\n",
      "small Diff. Recall =  0.003279436864136059\n",
      "small Diff. Precision =  0.45988505896639786 0.4330871861969384\n",
      "small Diff. Recall =  0.3095846801491271 0.30630524328499104\n"
     ]
    }
   ],
   "source": [
    "s=0\n",
    "t=len(P)\n",
    "# print(len(P), len(rP), len(qP))\n",
    "print(\"small Diff. Precision = \", (np.sum(P[s:t,0])-np.sum(P[s:t,1]))/len(P))\n",
    "print(\"small Diff. Recall = \", (np.sum(R[s:t,0])-np.sum(R[s:t,1]))/len(R))\n",
    "print(\"small Diff. Precision = \", np.sum(P[:,0])/len(P),(np.sum(P[:,1]))/len(P))\n",
    "print(\"small Diff. Recall = \", np.sum(R[:,0])/len(R),(np.sum(R[:,1]))/len(R))"
   ]
  },
  {
   "cell_type": "code",
   "execution_count": null,
   "metadata": {},
   "outputs": [],
   "source": [
    "\n",
    "print(\"rsmall Diff. Precision = \", (np.sum(rP[s:t,0])-np.sum(rP[s:t,1]))/len(rP))\n",
    "print(\"rsmall Diff. Recall = \",( np.sum(rR[s:t,0])-np.sum(rR[s:t,1]))/len(rP))\n",
    "print(\"rsmall Diff. Precision = \", np.sum(rP[:,0])/len(rP),(np.sum(rP[:,1]))/len(rP))\n",
    "print(\"rsmall Diff. Recall = \", np.sum(rR[:,0])/len(rP),(np.sum(rR[:,1]))/len(rP))"
   ]
  },
  {
   "cell_type": "code",
   "execution_count": null,
   "metadata": {},
   "outputs": [],
   "source": [
    "\n",
    "print(\"qsmall Diff. Precision = \", (np.sum(qP[s:t,0])-np.sum(qP[s:t,1]))/len(qP))\n",
    "print(\"qsmall Diff. Recall = \", (np.sum(qR[s:t,0])-np.sum(qR[s:t,1]))/len(qR))\n",
    "print(\"qsmall Diff. Precision = \", np.sum(qP[:,0])/len(qP),(np.sum(qP[:,1]))/len(qP))\n",
    "print(\"qsmall Diff. Recall = \", np.sum(qR[:,0])/len(qP),(np.sum(qR[:,1]))/len(qR))"
   ]
  },
  {
   "cell_type": "code",
   "execution_count": 89,
   "metadata": {},
   "outputs": [],
   "source": [
    "def plt_lp_pr(pr_list, rc_list, title):\n",
    "\tfig, ax = plt.subplots(figsize=(10,8))\n",
    "\tlabl = [\"our (ts=0.5)\", \"our (ts=0.7)\", \"BoW\"]\n",
    "\tcol = ['tab:blue', 'tab:orange', 'tab:green']\n",
    "\tfor id in range(3):\n",
    "\t\t# print(\"id = \",id)\n",
    "\t\tpr = pr_list[id]\n",
    "\t\trc = rc_list[id]\n",
    "\t\t# print(pr)\n",
    "\t\t# print(rc)\n",
    "\t\tls = [\"6000\", \"2000\", \"1000\", \"100\"]\n",
    "\t\tlas = [1, 0.8, 0.6, 0.4]\n",
    "\t\tax.scatter(rc,pr, c=col[id], s=100,label=labl[id])\n",
    "\t\tfor i in range(4):\n",
    "\t\t\tax.annotate(ls[i],(rc[i]-0.01,pr[i]-0.01))\n",
    "\tax.legend()\n",
    "\tplt.title(title)\n",
    "\tplt.ylabel(\"precision\")\n",
    "\tplt.xlabel(\"recall\")\n",
    "\tplt.show()"
   ]
  },
  {
   "cell_type": "code",
   "execution_count": 90,
   "metadata": {},
   "outputs": [
    {
     "data": {
      "image/png": "[encoded data removed]",
      "text/plain": [
       "<Figure size 720x576 with 1 Axes>"
      ]
     },
     "metadata": {
      "needs_background": "light"
     },
     "output_type": "display_data"
    },
    {
     "data": {
      "image/png": "[encoded data removed]",
      "text/plain": [
       "<Figure size 720x576 with 1 Axes>"
      ]
     },
     "metadata": {
      "needs_background": "light"
     },
     "output_type": "display_data"
    },
    {
     "data": {
      "image/png": "[encoded data removed]",
      "text/plain": [
       "<Figure size 720x576 with 1 Axes>"
      ]
     },
     "metadata": {
      "needs_background": "light"
     },
     "output_type": "display_data"
    }
   ],
   "source": [
    "_ = plt_lp_pr([P5[:,0],P7[:,0],small_bow_pr],[R5[:,0],R7[:,0],small_bow_rc], \"small-run\")\n",
    "_ = plt_lp_pr([qP5[:,0],qP7[:,0],qsmall_bow_pr],[qR5[:,0],qR7[:,0],qsmall_bow_rc], \"qsmall-run\")\n",
    "_ = plt_lp_pr([rP5[:,0],rP7[:,0],rsmall_bow_pr],[rR5[:,0],rR7[:,0],rsmall_bow_rc], \"rsmall-run\")"
   ]
  },
  {
   "cell_type": "code",
   "execution_count": 98,
   "metadata": {},
   "outputs": [],
   "source": [
    "def compute_BOW_PR(file_path,freq,loc):\n",
    "\twith open(file_path, \"r\") as f:\n",
    "\t\tcorr = f.readlines()\n",
    "\tnew_corr = []\n",
    "\tfor cidx,c in enumerate(corr):\n",
    "\t\tif cidx<10:\n",
    "\t\t\tcontinue\n",
    "\t\tl = c.strip().split()\n",
    "\t\tif len(l)!=6:\n",
    "\t\t\tcontinue\n",
    "\t\t[_,l1,_,_, l2,s] = c.split()\n",
    "\t\tl1 = int(l1)\n",
    "\t\tl2 = int(l2[:-1])\n",
    "\t\ts = float(s)\n",
    "\t\tnew_corr.append([(int(l1)-1)//freq, (int(l2)-1)//freq, s])\n",
    "\n",
    "\tP = []\n",
    "\tR = []\n",
    "\tNC = np.array(new_corr)\n",
    "\tprint(NC.shape)\n",
    "\tnew_corr = []\n",
    "\tfor lp in NC:\n",
    "\t\tif abs(lp[0]-lp[1])<=5:\n",
    "\t\t\tcontinue\n",
    "\t\telse:\n",
    "\t\t\tnew_corr.append(lp)\n",
    "\tnew_corr = np.array(new_corr)\n",
    "\t# print(new_corr.shape)\n",
    "\tstep = 0.1\n",
    "\ts = new_corr[:,2]\n",
    "\ts = (s - s.min(0))/s.ptp(0)\n",
    "\trng = np.arange(0.1+step, 1.1-step,step)\n",
    "\t# # rng = [0.265, 0.2853, 0.296, 0.331] #small\n",
    "\t# # rng = [0.2665, 0.287, 0.299, 0.36] #qsmall\n",
    "\t# rng = [0.2623, 0.283, 0.294, 0.342] # rsmall\n",
    "\tfor t in tq(rng):\n",
    "\t\tidx = s > t\n",
    "\t\t# print(len(new_corr[idx]))\n",
    "\t\tbow_pr = get_precision(new_corr[idx], loc, 5)\n",
    "\t\tbow_rc = get_recall(new_corr[idx], loc, 5)\n",
    "\t\tP.append(bow_pr)\n",
    "\t\tR.append(bow_rc)\n",
    "\t\n",
    "\treturn P,R\n",
    "\t"
   ]
  },
  {
   "cell_type": "code",
   "execution_count": 62,
   "metadata": {},
   "outputs": [
    {
     "name": "stdout",
     "output_type": "stream",
     "text": [
      "(36585, 3)\n",
      "(35245, 3)\n"
     ]
    },
    {
     "name": "stderr",
     "output_type": "stream",
     "text": [
      "  0%|          | 0/8 [00:00<?, ?it/s]"
     ]
    },
    {
     "name": "stdout",
     "output_type": "stream",
     "text": [
      "34465\n"
     ]
    },
    {
     "name": "stderr",
     "output_type": "stream",
     "text": [
      " 12%|█▎        | 1/8 [00:01<00:11,  1.59s/it]"
     ]
    },
    {
     "name": "stdout",
     "output_type": "stream",
     "text": [
      "34449\n"
     ]
    },
    {
     "name": "stderr",
     "output_type": "stream",
     "text": [
      " 25%|██▌       | 2/8 [00:07<00:25,  4.24s/it]"
     ]
    },
    {
     "name": "stdout",
     "output_type": "stream",
     "text": [
      "34176\n"
     ]
    },
    {
     "name": "stderr",
     "output_type": "stream",
     "text": [
      " 38%|███▊      | 3/8 [00:09<00:15,  3.04s/it]"
     ]
    },
    {
     "name": "stdout",
     "output_type": "stream",
     "text": [
      "31488\n"
     ]
    },
    {
     "name": "stderr",
     "output_type": "stream",
     "text": [
      " 50%|█████     | 4/8 [00:10<00:09,  2.42s/it]"
     ]
    },
    {
     "name": "stdout",
     "output_type": "stream",
     "text": [
      "18658\n"
     ]
    },
    {
     "name": "stderr",
     "output_type": "stream",
     "text": [
      " 62%|██████▎   | 5/8 [00:11<00:05,  1.92s/it]"
     ]
    },
    {
     "name": "stdout",
     "output_type": "stream",
     "text": [
      "3719\n"
     ]
    },
    {
     "name": "stderr",
     "output_type": "stream",
     "text": [
      " 75%|███████▌  | 6/8 [00:12<00:02,  1.45s/it]"
     ]
    },
    {
     "name": "stdout",
     "output_type": "stream",
     "text": [
      "239\n"
     ]
    },
    {
     "name": "stderr",
     "output_type": "stream",
     "text": [
      " 88%|████████▊ | 7/8 [00:12<00:01,  1.10s/it]"
     ]
    },
    {
     "name": "stdout",
     "output_type": "stream",
     "text": [
      "13\n"
     ]
    },
    {
     "name": "stderr",
     "output_type": "stream",
     "text": [
      "100%|██████████| 8/8 [00:13<00:00,  1.64s/it]\n"
     ]
    }
   ],
   "source": [
    "small_1_bow_pr, small_1_bow_rc = compute_BOW_PR(\"LP/ENV1/small_1/bow_small_1_lp.txt\",3,small_1_ld.all_locs)"
   ]
  },
  {
   "cell_type": "code",
   "execution_count": 54,
   "metadata": {},
   "outputs": [
    {
     "name": "stdout",
     "output_type": "stream",
     "text": [
      "[0.22333922415041862, 0.22347308864064994, 0.22347308864064994, 0.22347308864064994, 0.22345704088442678, 0.22348979651078404, 0.22341446392741865, 0.22357794943820225, 0.22347737732353118, 0.22335492886178862, 0.22243004638635344, 0.2304641440668882, 0.25321756894790604, 0.30223178273729495, 0.40060851926977686, 0.5648535564853556, 0.8372093023255814, 0.9230769230769231]\n",
      "[0.8416857735560651, 0.8409214979801288, 0.8409214979801288, 0.8409214979801288, 0.840812315754995, 0.8405939513047276, 0.8388470357025877, 0.8342613822469702, 0.8164646795501692, 0.7678785893656512, 0.649197510645267, 0.4694835680751174, 0.27066273610656183, 0.12272082105033301, 0.04312697892783055, 0.01473960039305601, 0.003930560104814936, 0.0013101867016049786]\n"
     ]
    }
   ],
   "source": [
    "\n",
    "print(small_1_bow_pr)\n",
    "print(small_1_bow_rc)"
   ]
  },
  {
   "cell_type": "code",
   "execution_count": 109,
   "metadata": {},
   "outputs": [
    {
     "name": "stdout",
     "output_type": "stream",
     "text": [
      "(39340, 3)\n"
     ]
    },
    {
     "name": "stderr",
     "output_type": "stream",
     "text": [
      "100%|██████████| 8/8 [00:10<00:00,  1.27s/it]\n"
     ]
    }
   ],
   "source": [
    "# small_bow_pr, small_bow_rc = compute_BOW_PR(\"LP/ENV2/small/bow_small_lp.txt\",4,small_ld.all_locs)\n",
    "qsmall_bow_pr, qsmall_bow_rc = compute_BOW_PR(\"LP/ENV2/qsmall/bow_qsmall_lp.txt\",3,qsmall_ld.all_locs)\n",
    "# rsmall_bow_pr, rsmall_bow_rc = compute_BOW_PR(\"LP/ENV2/rsmall/bow_rsmall_lp.txt\",3,rsmall_ld.all_locs)"
   ]
  },
  {
   "cell_type": "code",
   "execution_count": 18,
   "metadata": {},
   "outputs": [
    {
     "name": "stdout",
     "output_type": "stream",
     "text": [
      "[0.4466419447878039, 0.5656906906906907, 0.6517482517482518, 0.9836065573770492]\n",
      "[0.22441515423366226, 0.10399558346559934, 0.06431578220964737, 0.012421503001863225]\n"
     ]
    }
   ],
   "source": [
    "# print(small_bow_pr)\n",
    "# print(small_bow_rc)\n",
    "print(qsmall_bow_pr)\n",
    "print(qsmall_bow_rc)\n",
    "# print(rsmall_bow_pr)\n",
    "# print(rsmall_bow_rc)"
   ]
  },
  {
   "cell_type": "code",
   "execution_count": 63,
   "metadata": {},
   "outputs": [],
   "source": [
    "def combined_our_bow(file_path,freq,small_ld):\n",
    "\twith open(file_path, \"r\") as f:\n",
    "\t\tcorr = f.readlines()\n",
    "\tnew_corr = []\n",
    "\tfor cidx,c in enumerate(corr):\n",
    "\t\tif cidx<10:\n",
    "\t\t\tcontinue\n",
    "\t\tl = c.strip().split()\n",
    "\t\tif len(l)!=6:\n",
    "\t\t\tcontinue\n",
    "\t\t[_,l1,_,_, l2,s] = c.split()\n",
    "\t\tl1 = int(l1)\n",
    "\t\tl2 = int(l2[:-1])\n",
    "\t\ts = float(s)\n",
    "\t\tnew_corr.append([(int(l1)-1)//freq, (int(l2)-1)//freq, s])\n",
    "\n",
    "\n",
    "\tP = []\n",
    "\tR = []\n",
    "\t\n",
    "\tNC = np.array(new_corr)\n",
    "\tnew_corr = []\n",
    "\tfor lp in NC:\n",
    "\t\tif abs(lp[0]-lp[1])<=5:\n",
    "\t\t\tcontinue\n",
    "\t\telse:\n",
    "\t\t\tnew_corr.append(lp)\n",
    "\tnew_corr = np.array(new_corr)\n",
    "\n",
    "\tstep = 0.3\n",
    "\ts = new_corr[:,2]\n",
    "\ts = (s - s.min(0))/s.ptp(0)\n",
    "\trng = np.arange(0.1+step, 1.1-step,step)\n",
    "\tTS = np.arange(0.2, 0.8, 0.1)\n",
    "\tTG = np.arange(0.2, 0.8, 0.25)\n",
    "\tfor t in rng:\n",
    "\t\tidx = new_corr[:,2] > t\n",
    "\t\tbow_lp = np.array(new_corr[idx])\n",
    "\t\tfor tg in tq(TG):\n",
    "\t\t\tfor ts in TS:\n",
    "\t\t\t\tour_lp = np.array(small_ld.compute_loop_pairs(ts=ts,tg=tg))\n",
    "\t\t\t\t# print(type(our_lp), type(bow_lp))\n",
    "\t\t\t\tlp = np.vstack((our_lp,bow_lp))\n",
    "\t\t\t\t# print(\"lp = \",lp.shape)\n",
    "\t\t\t\t\n",
    "\t\t\t\tpr = get_precision(lp, small_ld.all_locs, 5)\n",
    "\t\t\t\trc = get_recall(lp, small_ld.all_locs, 5)\n",
    "\t\t\t\tP.append(pr)\n",
    "\t\t\t\tR.append(rc)\n",
    "\treturn P, R"
   ]
  },
  {
   "cell_type": "code",
   "execution_count": 64,
   "metadata": {},
   "outputs": [
    {
     "name": "stderr",
     "output_type": "stream",
     "text": [
      "100%|██████████| 3/3 [01:21<00:00, 27.21s/it]\n",
      "100%|██████████| 3/3 [01:21<00:00, 27.22s/it]\n"
     ]
    }
   ],
   "source": [
    "small_1_our_bow_pr, small_1_our_bow_rc = combined_our_bow(\"LP/ENV1/small_1/bow_small_1_lp.txt\",3,small_1_ld)"
   ]
  },
  {
   "cell_type": "code",
   "execution_count": 100,
   "metadata": {},
   "outputs": [
    {
     "name": "stderr",
     "output_type": "stream",
     "text": [
      "100%|██████████| 3/3 [00:25<00:00,  8.50s/it]\n",
      "100%|██████████| 3/3 [00:25<00:00,  8.55s/it]\n"
     ]
    }
   ],
   "source": [
    "small_our_bow_pr, small_our_bow_rc = combined_our_bow(\"LP/ENV2/small/bow_small_lp.txt\",4,small_ld)"
   ]
  },
  {
   "cell_type": "code",
   "execution_count": 110,
   "metadata": {},
   "outputs": [
    {
     "name": "stderr",
     "output_type": "stream",
     "text": [
      "100%|██████████| 3/3 [00:39<00:00, 13.10s/it]\n",
      "100%|██████████| 3/3 [00:34<00:00, 11.62s/it]\n"
     ]
    }
   ],
   "source": [
    "qsmall_our_bow_pr, qsmall_our_bow_rc = combined_our_bow(\"LP/ENV2/qsmall/bow_qsmall_lp.txt\",3,qsmall_ld)"
   ]
  },
  {
   "cell_type": "code",
   "execution_count": null,
   "metadata": {},
   "outputs": [],
   "source": [
    "rsmall_our_bow_pr, rsmall_our_bow_rc = combined_our_bow(\"LP/ENV2/rsmall/bow_rsmall_lp.txt\",3,rsmall_ld)"
   ]
  },
  {
   "cell_type": "code",
   "execution_count": 124,
   "metadata": {},
   "outputs": [],
   "source": [
    "def plot_pr_curve_for_our_naive_bow(P,R, title):\n",
    "    C1 = np.array([R[0],P[0]]).T\n",
    "    C2 = np.array([R[1],P[1]]).T\n",
    "    C3 = np.array([R[2],P[2]]).T\n",
    "    C4 = np.array([R[3],P[3]]).T\n",
    "    sC1 = C1[C1[:,0].argsort()]\n",
    "    sC2 = C2[C2[:,0].argsort()]\n",
    "    sC3 = C3[C3[:,0].argsort()]\n",
    "    sC4 = C4[C4[:,0].argsort()]\n",
    "\n",
    "    sC1 = sC1[::-1]\n",
    "    sC2 = sC2[::-1]\n",
    "    sC3 = sC3[::-1]\n",
    "    sC4 = sC4[::-1]\n",
    "    # print(\"C1 = \",C1)\n",
    "    # print(\"C2 = \",C2)\n",
    "    # print(\"sC1 = \",len(sC1))\n",
    "    # print(\"sC2 = \",len(sC2))\n",
    "\n",
    "    S1 = [sC1[0]]\n",
    "    for i in range(1,len(sC1)):\n",
    "        if sC1[i-1][0]==sC1[i][0]:\n",
    "            continue\n",
    "        else:\n",
    "            S1.append(sC1[i])\n",
    "    \n",
    "    S2 = [sC2[0]]\n",
    "    for i in range(1,len(sC2)):\n",
    "        if sC2[i-1][0]==sC2[i][0]:\n",
    "            continue\n",
    "        else:\n",
    "            S2.append(sC2[i])\n",
    "    \n",
    "    S3 = [sC3[0]]\n",
    "    for i in range(1,len(sC3)):\n",
    "        if sC3[i-1][0]==sC3[i][0]:\n",
    "            continue\n",
    "        else:\n",
    "            S3.append(sC3[i])\n",
    "    \n",
    "    S4 = [sC4[0]]\n",
    "    for i in range(1,len(sC4)):\n",
    "        if sC4[i-1][0]==sC4[i][0]:\n",
    "            continue\n",
    "        else:\n",
    "            S4.append(sC4[i])\n",
    "\n",
    "\n",
    "    fig = plt.figure(figsize=(10,7))\n",
    "    plt.rcParams.update({'font.size': 22})\n",
    "    plt.plot(np.array(S1)[:,0], np.array(S1)[:,1], c='g', label=\"Our system Loop Pairs\")\n",
    "    plt.plot(np.array(S2)[:,0], np.array(S2)[:,1], c='r', label=\"ResNet+GeM Loop Pairs\")\n",
    "    plt.plot(np.array(S3)[:,0], np.array(S3)[:,1], c='b', label=\"DBoW2 Loop Pairs\")\n",
    "    # plt.plot(np.array(S4)[:,0], np.array(S4)[:,1], c='y', label=\"our system + DBoW2 Loop Pairs\")\n",
    "    plt.legend([\"Our system Loop Pairs\", \"ResNet+GeM Loop Pairs\",\"DBoW2 Loop Pairs\",  ], fontsize=\"15\")\n",
    "    # plt.legend([\"Our system Loop Pairs\", \"ResNet+GeM Loop Pairs\",\"DBoW2 Loop Pairs\", \"our system + DBoW2 Loop Pairs\" ], fontsize=\"20\")\n",
    "    # plt.title(title)\n",
    "    plt.xlabel(\"Recall\")\n",
    "    plt.ylabel(\"Precision\")\n",
    "    plt.show()\n"
   ]
  },
  {
   "cell_type": "code",
   "execution_count": 116,
   "metadata": {},
   "outputs": [
    {
     "name": "stderr",
     "output_type": "stream",
     "text": [
      "/tmp/ipykernel_8291/2411107386.py:1: VisibleDeprecationWarning: Creating an ndarray from ragged nested sequences (which is a list-or-tuple of lists-or-tuples-or ndarrays with different lengths or shapes) is deprecated. If you meant to do this, you must specify 'dtype=object' when creating the ndarray.\n",
      "  sFP_1 = np.array([P_1[:,0], P_1[:,1], small_1_bow_pr, small_1_our_bow_pr])\n",
      "/tmp/ipykernel_8291/2411107386.py:2: VisibleDeprecationWarning: Creating an ndarray from ragged nested sequences (which is a list-or-tuple of lists-or-tuples-or ndarrays with different lengths or shapes) is deprecated. If you meant to do this, you must specify 'dtype=object' when creating the ndarray.\n",
      "  sFR_1 = np.array([R_1[:,0], R_1[:,1], small_1_bow_rc, small_1_our_bow_rc])\n"
     ]
    }
   ],
   "source": [
    "sFP_1 = np.array([P_1[:,0], P_1[:,1], small_1_bow_pr, small_1_our_bow_pr])\n",
    "sFR_1 = np.array([R_1[:,0], R_1[:,1], small_1_bow_rc, small_1_our_bow_rc])"
   ]
  },
  {
   "cell_type": "code",
   "execution_count": null,
   "metadata": {},
   "outputs": [
    {
     "name": "stderr",
     "output_type": "stream",
     "text": [
      "/tmp/ipykernel_8291/63696817.py:2: VisibleDeprecationWarning: Creating an ndarray from ragged nested sequences (which is a list-or-tuple of lists-or-tuples-or ndarrays with different lengths or shapes) is deprecated. If you meant to do this, you must specify 'dtype=object' when creating the ndarray.\n",
      "  qsFP = np.array([qP[:,0], qP[:,1], qsmall_bow_pr, qsmall_our_bow_pr])\n",
      "/tmp/ipykernel_8291/63696817.py:5: VisibleDeprecationWarning: Creating an ndarray from ragged nested sequences (which is a list-or-tuple of lists-or-tuples-or ndarrays with different lengths or shapes) is deprecated. If you meant to do this, you must specify 'dtype=object' when creating the ndarray.\n",
      "  qsFR = np.array([qR[:,0], qR[:,1], qsmall_bow_rc, qsmall_our_bow_rc])\n"
     ]
    }
   ],
   "source": [
    "# sFP = np.array([P[:,0], P[:,1], small_bow_pr, small_our_bow_pr])\n",
    "qsFP = np.array([qP[:,0], qP[:,1], qsmall_bow_pr, qsmall_our_bow_pr])\n",
    "# rsFP = np.array([rP[:,0], rP[:,1], rsmall_bow_pr, rsmall_our_bow_pr])\n",
    "# sFR = np.array([R[:,0], R[:,1], small_bow_rc, small_our_bow_rc])\n",
    "qsFR = np.array([qR[:,0], qR[:,1], qsmall_bow_rc, qsmall_our_bow_rc])\n",
    "# rsFR = np.array([rR[:,0], rR[:,1], rsmall_bow_rc, rsmall_our_bow_rc])"
   ]
  },
  {
   "cell_type": "code",
   "execution_count": null,
   "metadata": {},
   "outputs": [],
   "source": [
    "print(len(sFP))\n",
    "for l in sFP:\n",
    "    print(len(l))\n",
    "\n",
    "print()\n",
    "print(len(sFR))\n",
    "for l in sFR:\n",
    "    print(len(l))\n",
    "\n",
    "print(\"======\")\n",
    "\n",
    "print(len(qsFP))\n",
    "for l in qsFP:\n",
    "    print(len(l))\n",
    "\n",
    "print()\n",
    "print(len(qsFR))\n",
    "for l in qsFR:\n",
    "    print(len(l))\n",
    "\n",
    "print(\"======\")\n",
    "\n",
    "print(len(rsFP))\n",
    "for l in rsFP:\n",
    "    print(len(l))\n",
    "\n",
    "print()\n",
    "print(len(rsFR))\n",
    "for l in rsFR:\n",
    "    print(len(l))"
   ]
  },
  {
   "cell_type": "code",
   "execution_count": null,
   "metadata": {},
   "outputs": [],
   "source": [
    "np.save(\"pr_small_1_our_naive_bow_ourbow\",sFP_1)\n",
    "np.save(\"rc_small_1_our_naive_bow_ourbow\",sFR_1)"
   ]
  },
  {
   "cell_type": "code",
   "execution_count": null,
   "metadata": {},
   "outputs": [],
   "source": [
    "np.save(\"pr_small_our_naive_bow_ourbow\",sFP)\n",
    "np.save(\"rc_small_our_naive_bow_ourbow\",sFR)\n",
    "np.save(\"pr_qsmall_our_naive_bow_ourbow\",qsFP)\n",
    "np.save(\"rc_qsmall_our_naive_bow_ourbow\",qsFR)\n",
    "# np.save(\"pr_rsmall_our_naive_bow_ourbow\",rsFP)\n",
    "# np.save(\"rc_rsmall_our_naive_bow_ourbow\",rsFR)"
   ]
  },
  {
   "cell_type": "code",
   "execution_count": null,
   "metadata": {},
   "outputs": [],
   "source": [
    "tsFP = np.load(\"PR_values/pr_small_our_naive_bow_ourbow.npy\", allow_pickle=True)\n",
    "tsFR = np.load(\"PR_values/rc_small_our_naive_bow_ourbow.npy\", allow_pickle=True)\n",
    "tqsFP = np.load(\"PR_values/pr_qsmall_our_naive_bow_ourbow.npy\", allow_pickle=True)\n",
    "tqsFR = np.load(\"PR_values/rc_qsmall_our_naive_bow_ourbow.npy\", allow_pickle=True)\n",
    "trsFP = np.load(\"PR_values/pr_rsmall_our_naive_bow_ourbow.npy\", allow_pickle=True)\n",
    "trsFR = np.load(\"PR_values/rc_rsmall_our_naive_bow_ourbow.npy\", allow_pickle=True)\n",
    "tsFP_1 = np.load(\"PR_values/pr_small_1_our_naive_bow_ourbow.npy\", allow_pickle=True)\n",
    "tsFR_1 = np.load(\"PR_values/rc_small_1_our_naive_bow_ourbow.npy\", allow_pickle=True)"
   ]
  },
  {
   "cell_type": "code",
   "execution_count": 125,
   "metadata": {},
   "outputs": [
    {
     "data": {
      "image/png": "[encoded data removed]",
      "text/plain": [
       "<Figure size 720x504 with 1 Axes>"
      ]
     },
     "metadata": {
      "needs_background": "light"
     },
     "output_type": "display_data"
    },
    {
     "data": {
      "image/png": "[encoded data removed]",
      "text/plain": [
       "<Figure size 720x504 with 1 Axes>"
      ]
     },
     "metadata": {
      "needs_background": "light"
     },
     "output_type": "display_data"
    },
    {
     "data": {
      "image/png": "[encoded data removed]",
      "text/plain": [
       "<Figure size 720x504 with 1 Axes>"
      ]
     },
     "metadata": {
      "needs_background": "light"
     },
     "output_type": "display_data"
    },
    {
     "data": {
      "image/png": "[encoded data removed]",
      "text/plain": [
       "<Figure size 720x504 with 1 Axes>"
      ]
     },
     "metadata": {
      "needs_background": "light"
     },
     "output_type": "display_data"
    }
   ],
   "source": [
    "plot_pr_curve_for_our_naive_bow(tsFP, tsFR, \"small-dataset(variable length sequences)\")\n",
    "plot_pr_curve_for_our_naive_bow(tsFP_1, tsFR_1, \"small_1-dataset(variable length sequences)\")\n",
    "plot_pr_curve_for_our_naive_bow(tqsFP, tqsFR, \"qsmall-dataset(variable length sequences)\")\n",
    "plot_pr_curve_for_our_naive_bow(trsFP, trsFR, \"rsmall-dataset(variable length sequences)\")"
   ]
  },
  {
   "cell_type": "code",
   "execution_count": null,
   "metadata": {},
   "outputs": [],
   "source": [
    "\n",
    "# plot_pr_curve_for_our_naive_bow(sFP, sFR, \"small-dataset(variable length sequences)\")\n",
    "plot_pr_curve_for_our_naive_bow(qsFP, qsFR, \"qsmall-dataset(variable length sequences)\")\n",
    "# plot_pr_curve_for_our_naive_bow(rsFP, rsFR, \"rsmall-dataset(variable length sequences)\")\n"
   ]
  },
  {
   "cell_type": "code",
   "execution_count": null,
   "metadata": {},
   "outputs": [],
   "source": [
    "print(small_bow_pr, small_bow_rc)\n",
    "print(qsmall_bow_pr, qsmall_bow_rc)\n",
    "print(rsmall_bow_pr, rsmall_bow_rc)"
   ]
  },
  {
   "cell_type": "code",
   "execution_count": null,
   "metadata": {},
   "outputs": [],
   "source": [
    "def compare_with_rtabmap(rtabmap_lp_file_path, freq, small_ld, tg_list, ts_list):\n",
    "    def read_rtabmap_lp(file_path, freq):\n",
    "        with open(file_path, \"r\") as f:\n",
    "            corr = f.readlines()\n",
    "        new_corr = []\n",
    "        for c in corr:\n",
    "            c=c.strip()\n",
    "            [l1, l2] = c.split()\n",
    "            new_corr.append([(int(l1)-1)//freq, (int(l2)-1)//freq, -1])\n",
    "        return new_corr\n",
    "\n",
    "    # combining our system with RTABMAP LP\n",
    "    def combine_RTABMAP(tg_list, ts_list,small_ld, Rtabmap_LP, rad=5):\n",
    "        P = []\n",
    "        R = []\n",
    "        X,Y=[],[]\n",
    "        for i in tq(range(len(tg_list))):\n",
    "            tg = tg_list[i]\n",
    "            ts = ts_list[i]\n",
    "            seq_LP = small_ld.compute_loop_pairs(ts=ts,tg=tg)\n",
    "            seq_pr = get_precision(seq_LP, small_ld.all_locs, rad)\n",
    "            seq_rc = get_recall(seq_LP, small_ld.all_locs, rad)\n",
    "            for lp in Rtabmap_LP:\n",
    "                seq_LP.append(lp)\n",
    "            com_pr = get_precision(seq_LP, small_ld.all_locs, rad)\n",
    "            com_rc = get_recall(seq_LP, small_ld.all_locs, rad)\n",
    "            P.append([com_pr, seq_pr])\n",
    "            R.append([com_rc, seq_rc])\n",
    "            X.append(tg)\n",
    "            Y.append(ts)\n",
    "        P = np.array(P)\n",
    "        R = np.array(R)\n",
    "        return X,Y,P,R\n",
    "\n",
    "\n",
    "    Rtabmap_LP = read_rtabmap_lp(rtabmap_lp_file_path, freq)\n",
    "    rtab_pr = get_precision(Rtabmap_LP, small_ld.all_locs, 5)\n",
    "    rtab_rc = get_recall(Rtabmap_LP, small_ld.all_locs, 5)\n",
    "    X,Y,P,R = combine_RTABMAP(tg_list, ts_list, small_ld, Rtabmap_LP)\n",
    "    # print(\"Precision:\\n\")\n",
    "    # for i,p in enumerate(P):\n",
    "    #     print(\"tg= \",X[i], \" ts= \",Y[i], \" rtab_pr = \",rtab_pr, \" com pr = \",p)\n",
    "    # print(\"Recall:\\n\")\n",
    "    # for i,r in enumerate(R):\n",
    "    #     print(\"tg= \",X[i], \" ts= \",Y[i], \" rtab_pr = \",rtab_rc, \" com pr = \",r)\n",
    "    \n",
    "    FP = np.array([P[:,0], P[:,1],[rtab_pr]*len(P)]).T\n",
    "    FR = np.array([R[:,0], R[:,1],[rtab_rc]*len(R)]).T\n",
    "    return X,Y,FP,FR"
   ]
  },
  {
   "cell_type": "code",
   "execution_count": null,
   "metadata": {},
   "outputs": [],
   "source": [
    "rtab_X, rtab_Y, rtab_P, rtab_R = compare_with_rtabmap(\"LP/ENV2/small/rtabmap_small_lp.txt\", 4, small_ld, TG, TS)"
   ]
  },
  {
   "cell_type": "code",
   "execution_count": null,
   "metadata": {},
   "outputs": [],
   "source": [
    "# rtab_X, rtab_Y, rtab_P, rtab_R = compare_with_rtabmap(\"LP/ENV2/small/rtabmap_small_lp.txt\", 4, small_ld, TG, TS)\n",
    "qrtab_X, qrtab_Y, qrtab_P, qrtab_R = compare_with_rtabmap(\"LP/ENV2/qsmall/rtabmap_qsmall_lp.txt\", 3, qsmall_ld, TG, TS)\n",
    "rrtab_X, rrtab_Y, rrtab_P, rrtab_R = compare_with_rtabmap(\"LP/ENV2/rsmall/rtabmap_rsmall_lp.txt\", 3, rsmall_ld, TG, TS)"
   ]
  },
  {
   "cell_type": "code",
   "execution_count": null,
   "metadata": {},
   "outputs": [],
   "source": [
    "print(rtab_P[:3])\n",
    "print(qrtab_P[:3])\n",
    "print(rrtab_P[:3])\n",
    "print(rtab_R[:3])\n",
    "print(qrtab_R[:3])\n",
    "print(rrtab_R[:3])"
   ]
  },
  {
   "cell_type": "code",
   "execution_count": null,
   "metadata": {},
   "outputs": [],
   "source": [
    "def plot_pr_curve_for_rtab(P,R, title):\n",
    "    C1 = np.array([R[:,0],P[:,0]]).T\n",
    "    C3 = np.array([R[:,1],P[:,1]]).T\n",
    "    C2 = np.array([R[:,2],P[:,2]]).T\n",
    "    sC1 = C1[C1[:,0].argsort()]\n",
    "    sC2 = C2[C2[:,0].argsort()]\n",
    "    sC3 = C3[C3[:,0].argsort()]\n",
    "\n",
    "    sC1 = sC1[::-1]\n",
    "    sC2 = sC2[::-1]\n",
    "    sC3 = sC3[::-1]\n",
    "    # print(\"C1 = \",C1)\n",
    "    # print(\"C2 = \",C2)\n",
    "    # print(\"sC1 = \",len(sC1))\n",
    "    # print(\"sC2 = \",len(sC2))\n",
    "\n",
    "    S1 = []\n",
    "    for i in range(1,len(sC1)):\n",
    "        if sC1[i-1][0]==sC1[i][0]:\n",
    "            continue\n",
    "        else:\n",
    "            S1.append(sC1[i-1])\n",
    "    \n",
    "    S3 = []\n",
    "    for i in range(1,len(sC3)):\n",
    "        if sC3[i-1][0]==sC3[i][0]:\n",
    "            continue\n",
    "        else:\n",
    "            S3.append(sC3[i-1])\n",
    "\n",
    "    S2 = []\n",
    "    for i in range(1,len(sC2)):\n",
    "        S2.append(sC2[i-1])\n",
    "    \n",
    "    # print(len(S1), len(S2))\n",
    "    # for s in S1:\n",
    "    #     print(\"S1 = \",s)\n",
    "    # for s in S2:\n",
    "    #    print(\"S2 = \",s)\n",
    "    # print(S2)\n",
    "    fig = plt.figure(figsize=(10,7))\n",
    "    plt.plot(np.array(S1)[:,0], np.array(S1)[:,1], c='g', label=\"our system + RTABMAP Loop Pairs\")\n",
    "    plt.plot(np.array(S3)[:,0], np.array(S3)[:,1], c='b', label=\"our system  Loop Pairs\")\n",
    "    plt.scatter(np.array(S2)[:,0], np.array(S2)[:,1], c='r', label=\"RTABMAP Loop Pairs\")\n",
    "    plt.legend([\"our system + RTABMAP Loop Pairs\", \"Only our system Loop Pairs\",\"Only RTABMAP Loop Pairs\" ])\n",
    "    plt.title(title)\n",
    "    plt.xlabel(\"Recall\")\n",
    "    plt.ylabel(\"Precision\")\n",
    "    plt.show()\n",
    "\n",
    "plot_pr_curve_for_rtab(rtab_P, rtab_R, \"small-dataset(variable length sequences)\")\n",
    "plot_pr_curve_for_rtab(qrtab_P, qrtab_R, \"qsmall-dataset(variable length sequences)\")\n",
    "plot_pr_curve_for_rtab(rrtab_P, rrtab_R, \"rsmall-dataset(variable length sequences)\")\n"
   ]
  },
  {
   "cell_type": "code",
   "execution_count": null,
   "metadata": {},
   "outputs": [],
   "source": [
    "def read_rtabmap_lp(file_path, freq=3):\n",
    "\twith open(file_path, \"r\") as f:\n",
    "\t\tcorr = f.readlines()\n",
    "\tnew_corr = []\n",
    "\tfor c in corr:\n",
    "\t\tc=c.strip()\n",
    "\t\t[l1, l2] = c.split()\n",
    "\t\tnew_corr.append([(int(l1)-1)//freq, (int(l2)-1)//freq, -1])\n",
    "\t\n",
    "\tprint(len(new_corr), len(new_corr))\n",
    "\treturn new_corr\n",
    "Rtabmap_LP = read_rtabmap_lp(\"LP/ENV2/qsmall/rtabmap_qsmall_lp.txt\")\n",
    "# for r in Rtabmap_LP:\n",
    "# \tprint(r)\n",
    "rtab_pr = get_precision(Rtabmap_LP, qsmall_ld.all_locs, 5)\n",
    "rtab_rc = get_recall(Rtabmap_LP, qsmall_ld.all_locs, 5)\n",
    "print(rtab_pr, rtab_rc)"
   ]
  },
  {
   "cell_type": "code",
   "execution_count": null,
   "metadata": {},
   "outputs": [],
   "source": [
    "# combining our system with RTABMAP LP\n",
    "def combine_RTABMAP(tg_list, ts_list,small_ld, Rtabmap_LP, rad=5):\n",
    "\tP = []\n",
    "\tR = []\n",
    "\tX,Y=[],[]\n",
    "\tfor i in range(len(tg_list)):\n",
    "\t\ttg = tg_list[i]\n",
    "\t\tts = ts_list[i]\n",
    "\t\tseq_LP = small_ld.compute_loop_pairs(ts=ts,tg=tg)\n",
    "\t\tcombine_LP = seq_LP.extend(Rtabmap_LP)\n",
    "\t\tcom_pr = get_precision(combine_LP, small_ld.all_locs, rad)\n",
    "\t\tcom_rc = get_recall(combine_LP, small_ld.all_locs, rad)\n",
    "\t\tP.append(com_pr)\n",
    "\t\tR.append(com_rc)\n",
    "\t\tX.append(tg)\n",
    "\t\tY.append(ts)\n",
    "\tP = np.array(P)\n",
    "\tR = np.array(R)\n",
    "\treturn X,Y,P,R\n"
   ]
  },
  {
   "attachments": {},
   "cell_type": "markdown",
   "metadata": {},
   "source": [
    "### OBSERVATION: For highly confident edges(both either at sequence level and image level) our system is giving better precision. But the recall is almost equivalent."
   ]
  },
  {
   "cell_type": "code",
   "execution_count": null,
   "metadata": {},
   "outputs": [],
   "source": [
    "print(\"small data\")\n",
    "plot_tg_ts_PR(X,Y, P, R) \n",
    "print(\"qsmall data\")\n",
    "plot_tg_ts_PR(qX,qY, qP, qR)\n",
    "print(\"qsmall data\")\n",
    "plot_tg_ts_PR(rX,rY, rP, rR)"
   ]
  },
  {
   "attachments": {},
   "cell_type": "markdown",
   "metadata": {},
   "source": [
    "# P-R curve"
   ]
  },
  {
   "cell_type": "code",
   "execution_count": null,
   "metadata": {},
   "outputs": [],
   "source": [
    "A = np.array([1,5,3,9,2,4])\n",
    "print(A)\n",
    "print(A.argsort())\n",
    "print(A[A.argsort()])"
   ]
  },
  {
   "cell_type": "code",
   "execution_count": null,
   "metadata": {},
   "outputs": [],
   "source": [
    "def plot_pr_curve(P,R, title):\n",
    "    C1 = np.array([R[:,0],P[:,0]]).T\n",
    "    C2 = np.array([R[:,1],P[:,1]]).T\n",
    "    sC1 = C1[C1[:,0].argsort()]\n",
    "    sC2 = C2[C2[:,0].argsort()]\n",
    "\n",
    "    sC1 = sC1[::-1]\n",
    "    sC2 = sC2[::-1]\n",
    "    # print(\"C1 = \",C1)\n",
    "    # print(\"C2 = \",C2)\n",
    "    # print(\"sC1 = \",sC1)\n",
    "    # print(\"sC2 = \",sC2)\n",
    "\n",
    "    S1 = []\n",
    "    for i in range(1,len(sC1)):\n",
    "        if sC1[i-1][0]==sC1[i][0]:\n",
    "            continue\n",
    "        else:\n",
    "            S1.append(sC1[i-1])\n",
    "\n",
    "    S2 = []\n",
    "    for i in range(1,len(sC2)):\n",
    "        if sC2[i-1][0]==sC2[i][0]:\n",
    "            continue\n",
    "        else:\n",
    "            S2.append(sC2[i-1])\n",
    "\n",
    "    # for s in S1:\n",
    "    #     print(\"S1 = \",s)\n",
    "    # for s in S2:\n",
    "    #    print(\"S2 = \",s)\n",
    "    fig = plt.figure(figsize=(10,7))\n",
    "    plt.plot(np.array(S1)[:,0], np.array(S1)[:,1], c='g', label=\"our system (SD+GD)\")\n",
    "    plt.plot(np.array(S2)[:,0], np.array(S2)[:,1], c='r', label=\"naive system (only GD)\")\n",
    "    plt.legend([\"our system (SD+GD)\",\"naive system (only GD)\" ])\n",
    "    plt.title(title)\n",
    "    plt.xlabel(\"Recall\")\n",
    "    plt.ylabel(\"Precision\")\n",
    "    plt.show()\n",
    "    "
   ]
  },
  {
   "cell_type": "code",
   "execution_count": null,
   "metadata": {},
   "outputs": [],
   "source": [
    "plot_pr_curve(P,R, \"small-dataset(variable length sequences)\")"
   ]
  },
  {
   "cell_type": "code",
   "execution_count": null,
   "metadata": {},
   "outputs": [],
   "source": [
    "plot_pr_curve(qP,qR, \"qsmall-dataset(variable length sequences)\")"
   ]
  },
  {
   "cell_type": "code",
   "execution_count": null,
   "metadata": {},
   "outputs": [],
   "source": [
    "plot_pr_curve(rP,rR, \"rsmall-dataset(variable length sequences)\")"
   ]
  },
  {
   "cell_type": "code",
   "execution_count": null,
   "metadata": {},
   "outputs": [],
   "source": []
  },
  {
   "cell_type": "code",
   "execution_count": null,
   "metadata": {},
   "outputs": [],
   "source": []
  },
  {
   "cell_type": "code",
   "execution_count": null,
   "metadata": {},
   "outputs": [],
   "source": []
  },
  {
   "cell_type": "code",
   "execution_count": null,
   "metadata": {},
   "outputs": [],
   "source": []
  },
  {
   "cell_type": "code",
   "execution_count": null,
   "metadata": {},
   "outputs": [],
   "source": []
  },
  {
   "cell_type": "code",
   "execution_count": null,
   "metadata": {},
   "outputs": [],
   "source": []
  },
  {
   "cell_type": "code",
   "execution_count": null,
   "metadata": {},
   "outputs": [],
   "source": []
  },
  {
   "cell_type": "code",
   "execution_count": null,
   "metadata": {},
   "outputs": [],
   "source": []
  },
  {
   "cell_type": "code",
   "execution_count": null,
   "metadata": {},
   "outputs": [],
   "source": []
  },
  {
   "cell_type": "code",
   "execution_count": null,
   "metadata": {},
   "outputs": [],
   "source": []
  },
  {
   "cell_type": "code",
   "execution_count": null,
   "metadata": {},
   "outputs": [],
   "source": []
  },
  {
   "cell_type": "code",
   "execution_count": null,
   "metadata": {},
   "outputs": [],
   "source": []
  },
  {
   "cell_type": "code",
   "execution_count": null,
   "metadata": {},
   "outputs": [],
   "source": []
  },
  {
   "cell_type": "code",
   "execution_count": null,
   "metadata": {},
   "outputs": [],
   "source": []
  },
  {
   "cell_type": "code",
   "execution_count": null,
   "metadata": {},
   "outputs": [],
   "source": []
  },
  {
   "cell_type": "code",
   "execution_count": null,
   "metadata": {},
   "outputs": [],
   "source": []
  },
  {
   "cell_type": "code",
   "execution_count": null,
   "metadata": {},
   "outputs": [],
   "source": []
  },
  {
   "cell_type": "code",
   "execution_count": null,
   "metadata": {},
   "outputs": [],
   "source": []
  },
  {
   "cell_type": "code",
   "execution_count": null,
   "metadata": {},
   "outputs": [],
   "source": []
  },
  {
   "cell_type": "code",
   "execution_count": null,
   "metadata": {},
   "outputs": [],
   "source": []
  },
  {
   "cell_type": "code",
   "execution_count": null,
   "metadata": {},
   "outputs": [],
   "source": []
  },
  {
   "cell_type": "code",
   "execution_count": null,
   "metadata": {},
   "outputs": [],
   "source": []
  },
  {
   "cell_type": "code",
   "execution_count": null,
   "metadata": {},
   "outputs": [],
   "source": []
  },
  {
   "cell_type": "code",
   "execution_count": null,
   "metadata": {},
   "outputs": [],
   "source": []
  },
  {
   "cell_type": "code",
   "execution_count": null,
   "metadata": {},
   "outputs": [],
   "source": []
  },
  {
   "cell_type": "code",
   "execution_count": null,
   "metadata": {},
   "outputs": [],
   "source": []
  },
  {
   "cell_type": "code",
   "execution_count": null,
   "metadata": {},
   "outputs": [],
   "source": []
  },
  {
   "cell_type": "code",
   "execution_count": null,
   "metadata": {},
   "outputs": [],
   "source": []
  },
  {
   "cell_type": "code",
   "execution_count": null,
   "metadata": {},
   "outputs": [],
   "source": []
  },
  {
   "cell_type": "code",
   "execution_count": null,
   "metadata": {},
   "outputs": [],
   "source": []
  },
  {
   "cell_type": "code",
   "execution_count": null,
   "metadata": {},
   "outputs": [],
   "source": []
  },
  {
   "cell_type": "code",
   "execution_count": null,
   "metadata": {},
   "outputs": [],
   "source": []
  },
  {
   "cell_type": "code",
   "execution_count": null,
   "metadata": {},
   "outputs": [],
   "source": []
  },
  {
   "cell_type": "code",
   "execution_count": null,
   "metadata": {},
   "outputs": [],
   "source": []
  },
  {
   "cell_type": "code",
   "execution_count": null,
   "metadata": {},
   "outputs": [],
   "source": []
  },
  {
   "cell_type": "code",
   "execution_count": null,
   "metadata": {},
   "outputs": [],
   "source": []
  },
  {
   "cell_type": "code",
   "execution_count": null,
   "metadata": {},
   "outputs": [],
   "source": []
  },
  {
   "cell_type": "code",
   "execution_count": null,
   "metadata": {},
   "outputs": [],
   "source": []
  },
  {
   "cell_type": "code",
   "execution_count": null,
   "metadata": {},
   "outputs": [],
   "source": []
  },
  {
   "cell_type": "code",
   "execution_count": null,
   "metadata": {},
   "outputs": [],
   "source": []
  },
  {
   "cell_type": "code",
   "execution_count": null,
   "metadata": {},
   "outputs": [],
   "source": []
  },
  {
   "cell_type": "code",
   "execution_count": null,
   "metadata": {},
   "outputs": [],
   "source": []
  },
  {
   "cell_type": "code",
   "execution_count": null,
   "metadata": {},
   "outputs": [],
   "source": []
  },
  {
   "cell_type": "code",
   "execution_count": null,
   "metadata": {},
   "outputs": [],
   "source": []
  },
  {
   "cell_type": "code",
   "execution_count": null,
   "metadata": {},
   "outputs": [],
   "source": []
  },
  {
   "cell_type": "code",
   "execution_count": null,
   "metadata": {},
   "outputs": [],
   "source": []
  },
  {
   "cell_type": "code",
   "execution_count": null,
   "metadata": {},
   "outputs": [],
   "source": []
  },
  {
   "cell_type": "code",
   "execution_count": null,
   "metadata": {},
   "outputs": [],
   "source": []
  },
  {
   "cell_type": "code",
   "execution_count": null,
   "metadata": {},
   "outputs": [],
   "source": []
  },
  {
   "cell_type": "code",
   "execution_count": null,
   "metadata": {},
   "outputs": [],
   "source": []
  },
  {
   "cell_type": "code",
   "execution_count": null,
   "metadata": {},
   "outputs": [],
   "source": []
  },
  {
   "cell_type": "code",
   "execution_count": null,
   "metadata": {},
   "outputs": [],
   "source": []
  },
  {
   "cell_type": "code",
   "execution_count": null,
   "metadata": {},
   "outputs": [],
   "source": []
  },
  {
   "cell_type": "code",
   "execution_count": null,
   "metadata": {},
   "outputs": [],
   "source": []
  },
  {
   "cell_type": "code",
   "execution_count": null,
   "metadata": {},
   "outputs": [],
   "source": []
  },
  {
   "cell_type": "code",
   "execution_count": null,
   "metadata": {},
   "outputs": [],
   "source": []
  },
  {
   "cell_type": "code",
   "execution_count": null,
   "metadata": {},
   "outputs": [],
   "source": []
  },
  {
   "cell_type": "code",
   "execution_count": null,
   "metadata": {},
   "outputs": [],
   "source": []
  },
  {
   "cell_type": "code",
   "execution_count": null,
   "metadata": {},
   "outputs": [],
   "source": []
  },
  {
   "cell_type": "code",
   "execution_count": null,
   "metadata": {},
   "outputs": [],
   "source": []
  },
  {
   "cell_type": "code",
   "execution_count": null,
   "metadata": {},
   "outputs": [],
   "source": []
  },
  {
   "cell_type": "code",
   "execution_count": null,
   "metadata": {},
   "outputs": [],
   "source": []
  },
  {
   "cell_type": "code",
   "execution_count": null,
   "metadata": {},
   "outputs": [],
   "source": []
  },
  {
   "cell_type": "code",
   "execution_count": null,
   "metadata": {},
   "outputs": [],
   "source": []
  },
  {
   "cell_type": "code",
   "execution_count": null,
   "metadata": {},
   "outputs": [],
   "source": []
  },
  {
   "cell_type": "code",
   "execution_count": null,
   "metadata": {},
   "outputs": [],
   "source": []
  },
  {
   "cell_type": "code",
   "execution_count": null,
   "metadata": {},
   "outputs": [],
   "source": []
  },
  {
   "cell_type": "code",
   "execution_count": null,
   "metadata": {},
   "outputs": [],
   "source": []
  },
  {
   "cell_type": "code",
   "execution_count": null,
   "metadata": {},
   "outputs": [],
   "source": []
  }
 ],
 "metadata": {
  "kernelspec": {
   "display_name": "Python 3",
   "language": "python",
   "name": "python3"
  },
  "language_info": {
   "codemirror_mode": {
    "name": "ipython",
    "version": 3
   },
   "file_extension": ".py",
   "mimetype": "text/x-python",
   "name": "python",
   "nbconvert_exporter": "python",
   "pygments_lexer": "ipython3",
   "version": "3.10.6"
  },
  "orig_nbformat": 4,
  "vscode": {
   "interpreter": {
    "hash": "31f2aee4e71d21fbe5cf8b01ff0e069b9275f58929596ceb00d14d90e3e16cd6"
   }
  }
 },
 "nbformat": 4,
 "nbformat_minor": 2
}

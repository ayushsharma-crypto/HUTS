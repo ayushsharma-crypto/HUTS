{
 "cells": [
  {
   "cell_type": "code",
   "execution_count": 1,
   "metadata": {},
   "outputs": [],
   "source": [
    "import numpy as np\n",
    "import argparse\n",
    "import faiss\n",
    "from sklearn.neighbors import NearestNeighbors\n",
    "import matplotlib.pyplot as plt\n",
    "from tqdm import tqdm as tq\n",
    "import pandas as pd\n",
    "from sklearn.decomposition import PCA"
   ]
  },
  {
   "attachments": {},
   "cell_type": "markdown",
   "metadata": {},
   "source": [
    "Env1 - small, qsmall , rsmall\n",
    "Env2 - small_1, small_2\n",
    "\n",
    "PCA_MATRIX1 from small\n",
    "PCA_MATRIX2 from small_2\n",
    "\n",
    "qsmall - ref\n",
    "rsmall - q"
   ]
  },
  {
   "cell_type": "code",
   "execution_count": 2,
   "metadata": {},
   "outputs": [],
   "source": [
    "TRAINING_SOURCES = [\n",
    "    \"data/small/all_feat.npy\",\n",
    "    \"data/small_2/all_feat.npy\",\n",
    "]\n",
    "\n",
    "TESTING_SOURCES = [\n",
    "    \"data/qsmall/all_feat.npy\",\n",
    "    \"data/rsmall/all_feat.npy\",\n",
    "    \"data/small_1/all_feat.npy\",\n",
    "]\n",
    "\n",
    "TRAINING_POSES_FILES = [\n",
    "    \"data/small/all_poses_freq_4.npy\",\n",
    "    \"data/small_2/all_poses_freq_5.npy\",\n",
    "]\n",
    "\n",
    "TESTING_POSES_FILES = [\n",
    "    \"data/qsmall/all_poses_freq_3.npy\",\n",
    "    \"data/rsmall/all_poses_freq_3.npy\",\n",
    "    \"data/small_1/all_poses_freq_3.npy\",\n",
    "]"
   ]
  },
  {
   "cell_type": "code",
   "execution_count": 3,
   "metadata": {},
   "outputs": [],
   "source": [
    "def train_pca(src_path, rel_thresh=0.01):\n",
    "\tfeat = np.load(src_path)\n",
    "\tpd_feat = pd.DataFrame(feat)\n",
    "\tfor col in pd_feat.columns:\n",
    "\t\tpd_feat[col] = (pd_feat[col] - pd_feat[col].mean() ) / pd_feat[col].std()\n",
    "\tprevious_percent = 0\n",
    "\tcurrent_percent = 0\n",
    "\tbest_components = -1\n",
    "\tpca_matrix = None\n",
    "\tfor i in range(1,min(len(feat),len(pd_feat.columns))):\n",
    "\t\tpca = PCA(n_components=i)\n",
    "\t\tpca_result = pca.fit_transform(pd_feat)\n",
    "\t\tcurrent_percent = np.sum(pca.explained_variance_ratio_)\n",
    "\t\tif current_percent-previous_percent>rel_thresh:\n",
    "\t\t\tprevious_percent = current_percent\n",
    "\t\t\tbest_components = i\n",
    "\t\t\tpca_matrix = pca\n",
    "\t\telse:\n",
    "\t\t\tbreak\n",
    "\t\n",
    "\tprint(\"Relevant top\", best_components, \" pca-components! They got Cumulative variance = \", 100*current_percent)\n",
    "\tprint(\"Variation per principal component:\\n\",pca.explained_variance_ratio_)\n",
    "\treturn pca_matrix, pca_result"
   ]
  },
  {
   "cell_type": "code",
   "execution_count": 4,
   "metadata": {},
   "outputs": [
    {
     "name": "stdout",
     "output_type": "stream",
     "text": [
      "Training for data  1\n",
      "Relevant top 10  pca-components! They got Cumulative variance =  45.6436425447464\n",
      "Variation per principal component:\n",
      " [0.11938147 0.06771785 0.05131145 0.04062593 0.03595198 0.03080368\n",
      " 0.02612954 0.02304644 0.02239682 0.02042515 0.01864612]\n",
      "Training for data  2\n",
      "Relevant top 11  pca-components! They got Cumulative variance =  47.84126281738281\n",
      "Variation per principal component:\n",
      " [0.1083398  0.06531814 0.06182433 0.04391404 0.03488746 0.03046417\n",
      " 0.02653001 0.02396005 0.02331732 0.02177596 0.02031511 0.01776625]\n"
     ]
    }
   ],
   "source": [
    "TRAINED_PCA = []\n",
    "for idx, data in enumerate(TRAINING_SOURCES):\n",
    "    print(\"Training for data \",idx+1)\n",
    "    pca_mat, pca_result = train_pca(data, 0.02)\n",
    "    TRAINED_PCA.append(pca_mat)"
   ]
  },
  {
   "cell_type": "code",
   "execution_count": 5,
   "metadata": {},
   "outputs": [
    {
     "name": "stdout",
     "output_type": "stream",
     "text": [
      "Modifying Train data  1\n"
     ]
    },
    {
     "name": "stderr",
     "output_type": "stream",
     "text": [
      "100%|██████████| 2/2 [00:00<00:00,  3.82it/s]\n"
     ]
    },
    {
     "name": "stdout",
     "output_type": "stream",
     "text": [
      "Modifying Train data  2\n"
     ]
    },
    {
     "name": "stderr",
     "output_type": "stream",
     "text": [
      "100%|██████████| 2/2 [00:00<00:00,  3.63it/s]\n"
     ]
    }
   ],
   "source": [
    "TRAINED_PCA_VEC = []\n",
    "for train_id, train_path in enumerate(TRAINING_SOURCES):\n",
    "\tprint(\"Modifying Train data \", train_id+1)\n",
    "\tpca_vec_list = []\n",
    "\tfeat = np.load(train_path)\n",
    "\tpd_feat = pd.DataFrame(feat)\n",
    "\tfor col in pd_feat.columns:\n",
    "\t\tpd_feat[col] = (pd_feat[col] - pd_feat[col].mean() ) / pd_feat[col].std()\n",
    "\tfor M in tq(TRAINED_PCA):\n",
    "\t\tpca_vec_list.append(M.transform(pd_feat))\n",
    "\tTRAINED_PCA_VEC.append(pca_vec_list)\n",
    "TRAINED_PCA_VEC = np.asarray(TRAINED_PCA_VEC,dtype=object)"
   ]
  },
  {
   "cell_type": "code",
   "execution_count": 6,
   "metadata": {},
   "outputs": [
    {
     "name": "stdout",
     "output_type": "stream",
     "text": [
      "Modifying Test data  1\n"
     ]
    },
    {
     "name": "stderr",
     "output_type": "stream",
     "text": [
      "100%|██████████| 2/2 [00:00<00:00,  3.87it/s]\n"
     ]
    },
    {
     "name": "stdout",
     "output_type": "stream",
     "text": [
      "Modifying Test data  2\n"
     ]
    },
    {
     "name": "stderr",
     "output_type": "stream",
     "text": [
      "100%|██████████| 2/2 [00:00<00:00,  4.53it/s]\n"
     ]
    },
    {
     "name": "stdout",
     "output_type": "stream",
     "text": [
      "Modifying Test data  3\n"
     ]
    },
    {
     "name": "stderr",
     "output_type": "stream",
     "text": [
      "100%|██████████| 2/2 [00:00<00:00,  4.55it/s]\n"
     ]
    }
   ],
   "source": [
    "TEST_PCA_VEC = []\n",
    "for test_id, test_path in enumerate(TESTING_SOURCES):\n",
    "\tprint(\"Modifying Test data \", test_id+1)\n",
    "\tpca_vec_list = []\n",
    "\tfeat = np.load(test_path)\n",
    "\tpd_feat = pd.DataFrame(feat)\n",
    "\tfor col in pd_feat.columns:\n",
    "\t\tpd_feat[col] = (pd_feat[col] - pd_feat[col].mean() ) / pd_feat[col].std()\n",
    "\tfor M in tq(TRAINED_PCA):\n",
    "\t\tpca_vec_list.append(M.transform(pd_feat))\n",
    "\tTEST_PCA_VEC.append(pca_vec_list)\n",
    "TEST_PCA_VEC = np.asarray(TEST_PCA_VEC,dtype=object)"
   ]
  },
  {
   "cell_type": "code",
   "execution_count": 7,
   "metadata": {},
   "outputs": [],
   "source": [
    "def computing_basic_recall(GD, poses_file_path, remove_non_gt_query=False, temporal_window = 6, n_value=[1,5,10,20], radius=5):\n",
    "\tPOSES = np.load(poses_file_path)\n",
    "\tnon_usefull_q = 0\n",
    "\tcorrect_at_n = np.zeros(len(n_value))\n",
    "\tfor gd_idx, gd in enumerate(GD):\n",
    "\t\tremove_idx = range(max(0,gd_idx-temporal_window),min(len(GD),gd_idx+temporal_window+1))\n",
    "\t\tref_idx = np.delete(np.asarray(list(range(len(GD)))),remove_idx)\n",
    "\t\tif len(ref_idx)<=0:\n",
    "\t\t\tnon_usefull_q+=1\n",
    "\t\telse:\n",
    "\t\t\tfaiss_index = faiss.IndexFlatL2(len(gd))\n",
    "\t\t\tfaiss_index.add(GD[ref_idx])\n",
    "\t\t\tdistances, predictions = faiss_index.search(np.array([gd]), max(n_value))\n",
    "\t\t\tknn = NearestNeighbors(n_jobs=1)\n",
    "\t\t\tref = POSES[ref_idx]\n",
    "\t\t\tknn.fit(ref)\n",
    "\t\t\t_, potential_pos = knn.radius_neighbors(np.asarray([POSES[gd_idx]]), radius=radius)\n",
    "\t\t\tif remove_non_gt_query:\n",
    "\t\t\t\tif len(potential_pos[0])<=0:\n",
    "\t\t\t\t\tfor i, n in enumerate(n_value):\n",
    "\t\t\t\t\t\tif np.any(np.in1d(predictions[0][:n], potential_pos[0])):\n",
    "\t\t\t\t\t\t\tcorrect_at_n[i:]+=1\n",
    "\t\t\t\t\t\t\tbreak\n",
    "\t\t\t\telse:\n",
    "\t\t\t\t\tnon_usefull_q+=1\n",
    "\t\t\telse:\n",
    "\t\t\t\tfor i, n in enumerate(n_value):\n",
    "\t\t\t\t\t\tif np.any(np.in1d(predictions[0][:n], potential_pos[0])):\n",
    "\t\t\t\t\t\t\tcorrect_at_n[i:]+=1\n",
    "\t\t\t\t\t\t\tbreak\n",
    "\t\t\t\t\t\t\t\n",
    "\trecall_at_n = correct_at_n / (len(GD)-non_usefull_q)\n",
    "\treturn recall_at_n, non_usefull_q, len(GD)-non_usefull_q"
   ]
  },
  {
   "cell_type": "code",
   "execution_count": 8,
   "metadata": {},
   "outputs": [],
   "source": [
    "def check_test(test_pca_vec_list, poses_file_path):\n",
    "    RECALL, NUQ, UQ = [], [], []\n",
    "    for id, test_pca_vec in enumerate(test_pca_vec_list):\n",
    "        recall, nuq, uq = computing_basic_recall(test_pca_vec, poses_file_path)\n",
    "        RECALL.append(recall)\n",
    "        NUQ.append(nuq)\n",
    "        UQ.append(uq)\n",
    "    return RECALL, NUQ, UQ"
   ]
  },
  {
   "cell_type": "code",
   "execution_count": 55,
   "metadata": {},
   "outputs": [
    {
     "name": "stdout",
     "output_type": "stream",
     "text": [
      "\n",
      "Test data  1\n",
      "\ttrain on data= 1\n",
      "\trecall= [0.76868327 0.87188612 0.93594306 0.95729537]\n",
      "\tnuq= 0 \tuq= 281\n",
      "\n",
      "Test data  2\n",
      "\ttrain on data= 1\n",
      "\trecall= [0.58870968 0.84677419 0.90322581 0.9516129 ]\n",
      "\tnuq= 0 \tuq= 248\n",
      "\n",
      "Test data  3\n",
      "\ttrain on data= 1\n",
      "\trecall= [0.50184502 0.71217712 0.86346863 0.96309963]\n",
      "\tnuq= 0 \tuq= 271\n"
     ]
    }
   ],
   "source": [
    "for i in range(len(TEST_PCA_VEC)):\n",
    "    RECALL, NUQ, UQ = check_test([np.load(TESTING_SOURCES[i])], TESTING_POSES_FILES[i])\n",
    "    print(\"\\nTest data \", i+1)\n",
    "    for j in range(len(RECALL)):\n",
    "        print(\"\\ttrain on data=\",j+1)\n",
    "        print(\"\\trecall=\",RECALL[j])\n",
    "        print(\"\\tnuq=\",NUQ[j],\"\\tuq=\",UQ[j])"
   ]
  },
  {
   "cell_type": "code",
   "execution_count": 9,
   "metadata": {},
   "outputs": [
    {
     "name": "stdout",
     "output_type": "stream",
     "text": [
      "\n",
      "Test data  1\n",
      "\ttrain on data= 1\n",
      "\trecall= [0.66903915 0.86120996 0.92882562 0.96797153]\n",
      "\tnuq= 0 \tuq= 281\n",
      "\ttrain on data= 2\n",
      "\trecall= [0.57295374 0.86120996 0.92882562 0.96085409]\n",
      "\tnuq= 0 \tuq= 281\n",
      "\n",
      "Test data  2\n",
      "\ttrain on data= 1\n",
      "\trecall= [0.4516129  0.78629032 0.875      0.9233871 ]\n",
      "\tnuq= 0 \tuq= 248\n",
      "\ttrain on data= 2\n",
      "\trecall= [0.35887097 0.68951613 0.85887097 0.92741935]\n",
      "\tnuq= 0 \tuq= 248\n",
      "\n",
      "Test data  3\n",
      "\ttrain on data= 1\n",
      "\trecall= [0.29151292 0.69741697 0.82656827 0.95940959]\n",
      "\tnuq= 0 \tuq= 271\n",
      "\ttrain on data= 2\n",
      "\trecall= [0.43173432 0.7601476  0.87822878 0.96309963]\n",
      "\tnuq= 0 \tuq= 271\n"
     ]
    }
   ],
   "source": [
    "for i in range(len(TEST_PCA_VEC)):\n",
    "    RECALL, NUQ, UQ = check_test(TEST_PCA_VEC[i], TESTING_POSES_FILES[i])\n",
    "    print(\"\\nTest data \", i+1)\n",
    "    for j in range(len(RECALL)):\n",
    "        print(\"\\ttrain on data=\",j+1)\n",
    "        print(\"\\trecall=\",RECALL[j])\n",
    "        print(\"\\tnuq=\",NUQ[j],\"\\tuq=\",UQ[j]) "
   ]
  },
  {
   "cell_type": "code",
   "execution_count": 34,
   "metadata": {},
   "outputs": [],
   "source": [
    "def computing_primitive_recall(Q, GD, q_poses_file_path, gd_poses_file_path, n_value=[1,5,10,20], radius=3):\n",
    "\tQPOSES = np.load(q_poses_file_path)\n",
    "\tGDPOSES = np.load(gd_poses_file_path)\n",
    "\t# compute predictions\n",
    "\tfaiss_index = faiss.IndexFlatL2(len(GD[0]))\n",
    "\tfaiss_index.add(GD)\n",
    "\tdistances, predictions = faiss_index.search(Q, max(n_value))\n",
    "\t# compute potential positives as ground truth\n",
    "\tknn = NearestNeighbors(n_jobs=1)\n",
    "\tknn.fit(GDPOSES)\n",
    "\t_, potential_pos = knn.radius_neighbors(QPOSES, radius=radius)\n",
    "\t# compute recalls\n",
    "\tcorrect_at_n = np.zeros(len(n_value))\n",
    "\tfor qIx, pred in enumerate(predictions):\n",
    "\t\tfor i, n in enumerate(n_value):\n",
    "\t\t\tif np.any(np.in1d(pred[:n], potential_pos[qIx])):\n",
    "\t\t\t\tcorrect_at_n[i:]+=1\n",
    "\t\t\t\tbreak\n",
    "\trecall_at_n = correct_at_n / len(Q)\n",
    "\treturn recall_at_n"
   ]
  },
  {
   "attachments": {},
   "cell_type": "markdown",
   "metadata": {},
   "source": [
    "### small, qsmall and rsmall are runs from the same environment and small_1, small_2 are from another."
   ]
  },
  {
   "cell_type": "code",
   "execution_count": 27,
   "metadata": {},
   "outputs": [
    {
     "name": "stdout",
     "output_type": "stream",
     "text": [
      "[0.71530249 0.84697509 0.88967972 0.90747331]\n",
      "[0.6405694  0.8113879  0.87900356 0.90035587]\n"
     ]
    }
   ],
   "source": [
    "Q = TEST_PCA_VEC[0][0].copy(order='C')\n",
    "GD = TRAINED_PCA_VEC[0][0].copy(order='C')\n",
    "tmpR1 = computing_primitive_recall(Q,GD, TESTING_POSES_FILES[0], TRAINING_POSES_FILES[0])\n",
    "Q = TEST_PCA_VEC[0][1].copy(order='C')\n",
    "GD = TRAINED_PCA_VEC[0][1].copy(order='C')\n",
    "tmpR2 = computing_primitive_recall(Q,GD, TESTING_POSES_FILES[0], TRAINING_POSES_FILES[0])\n",
    "print(tmpR1)\n",
    "print(tmpR2)"
   ]
  },
  {
   "cell_type": "code",
   "execution_count": 28,
   "metadata": {},
   "outputs": [
    {
     "name": "stdout",
     "output_type": "stream",
     "text": [
      "[0.56854839 0.74596774 0.79435484 0.83870968]\n",
      "[0.43548387 0.65322581 0.75806452 0.83870968]\n"
     ]
    }
   ],
   "source": [
    "Q = TEST_PCA_VEC[1][0].copy(order='C')\n",
    "GD = TRAINED_PCA_VEC[0][0].copy(order='C')\n",
    "tmpR1 = computing_primitive_recall(Q,GD, TESTING_POSES_FILES[1], TRAINING_POSES_FILES[0])\n",
    "Q = TEST_PCA_VEC[1][1].copy(order='C')\n",
    "GD = TRAINED_PCA_VEC[0][1].copy(order='C')\n",
    "tmpR2 = computing_primitive_recall(Q,GD, TESTING_POSES_FILES[1], TRAINING_POSES_FILES[0])\n",
    "print(tmpR1)\n",
    "print(tmpR2)"
   ]
  },
  {
   "cell_type": "code",
   "execution_count": 29,
   "metadata": {},
   "outputs": [
    {
     "name": "stdout",
     "output_type": "stream",
     "text": [
      "[0.23616236 0.40221402 0.50184502 0.60885609]\n",
      "[0.33210332 0.45756458 0.52767528 0.5904059 ]\n"
     ]
    }
   ],
   "source": [
    "Q = TEST_PCA_VEC[2][0].copy(order='C')\n",
    "GD = TRAINED_PCA_VEC[1][0].copy(order='C')\n",
    "tmpR1 = computing_primitive_recall(Q,GD, TESTING_POSES_FILES[2], TRAINING_POSES_FILES[1])\n",
    "Q = TEST_PCA_VEC[2][1].copy(order='C')\n",
    "GD = TRAINED_PCA_VEC[1][1].copy(order='C')\n",
    "tmpR2 = computing_primitive_recall(Q,GD, TESTING_POSES_FILES[2], TRAINING_POSES_FILES[1])\n",
    "print(tmpR1)\n",
    "print(tmpR2)"
   ]
  },
  {
   "cell_type": "code",
   "execution_count": 35,
   "metadata": {},
   "outputs": [
    {
     "name": "stdout",
     "output_type": "stream",
     "text": [
      "[0.60498221 0.79003559 0.86120996 0.90747331]\n",
      "[0.44128114 0.74021352 0.85765125 0.93238434]\n"
     ]
    }
   ],
   "source": [
    "Q = TEST_PCA_VEC[0][0].copy(order='C')\n",
    "GD = TEST_PCA_VEC[1][0].copy(order='C')\n",
    "tmpR1 = computing_primitive_recall(Q,GD, TESTING_POSES_FILES[0], TESTING_POSES_FILES[1])\n",
    "Q = TEST_PCA_VEC[0][1].copy(order='C')\n",
    "GD = TEST_PCA_VEC[1][1].copy(order='C')\n",
    "tmpR2 = computing_primitive_recall(Q,GD, TESTING_POSES_FILES[0], TESTING_POSES_FILES[1])\n",
    "print(tmpR1)\n",
    "print(tmpR2)"
   ]
  },
  {
   "cell_type": "code",
   "execution_count": 36,
   "metadata": {},
   "outputs": [],
   "source": [
    "def computing_primitive_precision(Q, GD, q_poses_file_path, gd_poses_file_path, n_value=[1,5,10,20], radius=3):\n",
    "\tQPOSES = np.load(q_poses_file_path)\n",
    "\tGDPOSES = np.load(gd_poses_file_path)\n",
    "\t# compute predictions\n",
    "\tfaiss_index = faiss.IndexFlatL2(len(GD[0]))\n",
    "\tfaiss_index.add(GD)\n",
    "\tdistances, predictions = faiss_index.search(Q, max(n_value))\n",
    "\t# compute potential positives as ground truth\n",
    "\tknn = NearestNeighbors(n_jobs=1)\n",
    "\tknn.fit(GDPOSES)\n",
    "\t_, potential_pos = knn.radius_neighbors(QPOSES, radius=radius)\n",
    "\t# compute recalls\n",
    "\tcorrect_at_n = np.zeros(len(n_value))\n",
    "\tfor qIx, pred in enumerate(predictions):\n",
    "\t\tfor i, n in enumerate(n_value):\n",
    "\t\t\ttp = np.in1d(pred[:n], potential_pos[qIx])\n",
    "\t\t\tprecision = len(pred[:n][tp])/n\n",
    "\t\t\tif precision > 0.9:\n",
    "\t\t\t\tcorrect_at_n[i]+=1\n",
    "\t\t\t\t\n",
    "\trecall_at_n = correct_at_n / len(Q)\n",
    "\treturn recall_at_n"
   ]
  },
  {
   "cell_type": "code",
   "execution_count": 37,
   "metadata": {},
   "outputs": [
    {
     "name": "stdout",
     "output_type": "stream",
     "text": [
      "[0.71530249 0.42704626 0.17081851 0.00355872]\n",
      "[0.6405694  0.21352313 0.03914591 0.        ]\n"
     ]
    }
   ],
   "source": [
    "Q = TEST_PCA_VEC[0][0].copy(order='C')\n",
    "GD = TRAINED_PCA_VEC[0][0].copy(order='C')\n",
    "tmpR1 = computing_primitive_precision(Q,GD, TESTING_POSES_FILES[0], TRAINING_POSES_FILES[0])\n",
    "Q = TEST_PCA_VEC[0][1].copy(order='C')\n",
    "GD = TRAINED_PCA_VEC[0][1].copy(order='C')\n",
    "tmpR2 = computing_primitive_precision(Q,GD, TESTING_POSES_FILES[0], TRAINING_POSES_FILES[0])\n",
    "print(tmpR1)\n",
    "print(tmpR2)"
   ]
  },
  {
   "cell_type": "code",
   "execution_count": 38,
   "metadata": {},
   "outputs": [
    {
     "name": "stdout",
     "output_type": "stream",
     "text": [
      "[0.56854839 0.31854839 0.06451613 0.00403226]\n",
      "[0.43548387 0.08064516 0.01612903 0.        ]\n"
     ]
    }
   ],
   "source": [
    "Q = TEST_PCA_VEC[1][0].copy(order='C')\n",
    "GD = TRAINED_PCA_VEC[0][0].copy(order='C')\n",
    "tmpR1 = computing_primitive_precision(Q,GD, TESTING_POSES_FILES[1], TRAINING_POSES_FILES[0])\n",
    "Q = TEST_PCA_VEC[1][1].copy(order='C')\n",
    "GD = TRAINED_PCA_VEC[0][1].copy(order='C')\n",
    "tmpR2 = computing_primitive_precision(Q,GD, TESTING_POSES_FILES[1], TRAINING_POSES_FILES[0])\n",
    "print(tmpR1)\n",
    "print(tmpR2)"
   ]
  },
  {
   "cell_type": "code",
   "execution_count": 39,
   "metadata": {},
   "outputs": [
    {
     "name": "stdout",
     "output_type": "stream",
     "text": [
      "[0.23616236 0.03321033 0.         0.        ]\n",
      "[0.33210332 0.09225092 0.02214022 0.01107011]\n"
     ]
    }
   ],
   "source": [
    "Q = TEST_PCA_VEC[2][0].copy(order='C')\n",
    "GD = TRAINED_PCA_VEC[1][0].copy(order='C')\n",
    "tmpR1 = computing_primitive_precision(Q,GD, TESTING_POSES_FILES[2], TRAINING_POSES_FILES[1])\n",
    "Q = TEST_PCA_VEC[2][1].copy(order='C')\n",
    "GD = TRAINED_PCA_VEC[1][1].copy(order='C')\n",
    "tmpR2 = computing_primitive_precision(Q,GD, TESTING_POSES_FILES[2], TRAINING_POSES_FILES[1])\n",
    "print(tmpR1)\n",
    "print(tmpR2)"
   ]
  },
  {
   "cell_type": "code",
   "execution_count": 40,
   "metadata": {},
   "outputs": [
    {
     "name": "stdout",
     "output_type": "stream",
     "text": [
      "[0.60498221 0.11743772 0.03914591 0.00711744]\n",
      "[0.44128114 0.05338078 0.         0.        ]\n"
     ]
    }
   ],
   "source": [
    "Q = TEST_PCA_VEC[0][0].copy(order='C')\n",
    "GD = TEST_PCA_VEC[1][0].copy(order='C')\n",
    "tmpR1 = computing_primitive_precision(Q,GD, TESTING_POSES_FILES[0], TESTING_POSES_FILES[1])\n",
    "Q = TEST_PCA_VEC[0][1].copy(order='C')\n",
    "GD = TEST_PCA_VEC[1][1].copy(order='C')\n",
    "tmpR2 = computing_primitive_precision(Q,GD, TESTING_POSES_FILES[0], TESTING_POSES_FILES[1])\n",
    "print(tmpR1)\n",
    "print(tmpR2)"
   ]
  },
  {
   "attachments": {},
   "cell_type": "markdown",
   "metadata": {},
   "source": [
    "### Comparing GD vs PCA-GD"
   ]
  },
  {
   "cell_type": "code",
   "execution_count": 43,
   "metadata": {},
   "outputs": [
    {
     "name": "stdout",
     "output_type": "stream",
     "text": [
      "[0.13879004 0.23843416 0.43060498 0.68683274]\n",
      "[0.60498221 0.79003559 0.86120996 0.90747331]\n"
     ]
    }
   ],
   "source": [
    "Q = np.load(TESTING_SOURCES[0])\n",
    "GD = np.load(TESTING_SOURCES[1])\n",
    "tmpR1 = computing_primitive_recall(Q,GD, TESTING_POSES_FILES[0], TESTING_POSES_FILES[0])\n",
    "Q = TEST_PCA_VEC[0][0].copy(order='C')\n",
    "GD = TEST_PCA_VEC[1][0].copy(order='C')\n",
    "tmpR2 = computing_primitive_recall(Q,GD, TESTING_POSES_FILES[0], TESTING_POSES_FILES[1])\n",
    "print(tmpR1)\n",
    "print(tmpR2)"
   ]
  },
  {
   "cell_type": "code",
   "execution_count": 44,
   "metadata": {},
   "outputs": [
    {
     "name": "stdout",
     "output_type": "stream",
     "text": [
      "[0.13879004 0.01423488 0.         0.        ]\n",
      "[0.60498221 0.11743772 0.03914591 0.00711744]\n"
     ]
    }
   ],
   "source": [
    "Q = np.load(TESTING_SOURCES[0])\n",
    "GD = np.load(TESTING_SOURCES[1])\n",
    "tmpR1 = computing_primitive_precision(Q,GD, TESTING_POSES_FILES[0], TESTING_POSES_FILES[0])\n",
    "Q = TEST_PCA_VEC[0][0].copy(order='C')\n",
    "GD = TEST_PCA_VEC[1][0].copy(order='C')\n",
    "tmpR2 = computing_primitive_precision(Q,GD, TESTING_POSES_FILES[0], TESTING_POSES_FILES[1])\n",
    "print(tmpR1)\n",
    "print(tmpR2)"
   ]
  },
  {
   "cell_type": "code",
   "execution_count": 52,
   "metadata": {},
   "outputs": [
    {
     "name": "stdout",
     "output_type": "stream",
     "text": [
      "[0.37269373 0.5202952  0.5904059  0.64575646]\n",
      "[0.23616236 0.40221402 0.50184502 0.60885609]\n"
     ]
    }
   ],
   "source": [
    "Q = np.load(TESTING_SOURCES[2])\n",
    "GD = np.load(TRAINING_SOURCES[1])\n",
    "tmpR1 = computing_primitive_recall(Q,GD, TESTING_POSES_FILES[2], TRAINING_POSES_FILES[1])\n",
    "Q = TEST_PCA_VEC[2][0].copy(order='C')\n",
    "GD = TRAINED_PCA_VEC[1][0].copy(order='C')\n",
    "tmpR2 = computing_primitive_recall(Q,GD, TESTING_POSES_FILES[2], TRAINING_POSES_FILES[1])\n",
    "print(tmpR1)\n",
    "print(tmpR2)"
   ]
  },
  {
   "cell_type": "code",
   "execution_count": 53,
   "metadata": {},
   "outputs": [
    {
     "name": "stdout",
     "output_type": "stream",
     "text": [
      "[0.37269373 0.1402214  0.02214022 0.        ]\n",
      "[0.23616236 0.03321033 0.         0.        ]\n"
     ]
    }
   ],
   "source": [
    "Q = np.load(TESTING_SOURCES[2])\n",
    "GD = np.load(TRAINING_SOURCES[1])\n",
    "tmpR1 = computing_primitive_precision(Q,GD, TESTING_POSES_FILES[2], TRAINING_POSES_FILES[1])\n",
    "Q = TEST_PCA_VEC[2][0].copy(order='C')\n",
    "GD = TRAINED_PCA_VEC[1][0].copy(order='C')\n",
    "tmpR2 = computing_primitive_precision(Q,GD, TESTING_POSES_FILES[2], TRAINING_POSES_FILES[1])\n",
    "print(tmpR1)\n",
    "print(tmpR2)"
   ]
  },
  {
   "cell_type": "code",
   "execution_count": 56,
   "metadata": {},
   "outputs": [
    {
     "name": "stdout",
     "output_type": "stream",
     "text": [
      "[0.76156584 0.84697509 0.89323843 0.90747331]\n",
      "[0.71530249 0.84697509 0.88967972 0.90747331]\n"
     ]
    }
   ],
   "source": [
    "Q = np.load(TESTING_SOURCES[0])\n",
    "GD = np.load(TRAINING_SOURCES[0])\n",
    "tmpR1 = computing_primitive_recall(Q,GD, TESTING_POSES_FILES[0], TRAINING_POSES_FILES[0])\n",
    "Q = TEST_PCA_VEC[0][0].copy(order='C')\n",
    "GD = TRAINED_PCA_VEC[0][0].copy(order='C')\n",
    "tmpR2 = computing_primitive_recall(Q,GD, TESTING_POSES_FILES[0], TRAINING_POSES_FILES[0])\n",
    "print(tmpR1)\n",
    "print(tmpR2)"
   ]
  },
  {
   "cell_type": "code",
   "execution_count": null,
   "metadata": {},
   "outputs": [],
   "source": []
  }
 ],
 "metadata": {
  "kernelspec": {
   "display_name": "Python 3",
   "language": "python",
   "name": "python3"
  },
  "language_info": {
   "codemirror_mode": {
    "name": "ipython",
    "version": 3
   },
   "file_extension": ".py",
   "mimetype": "text/x-python",
   "name": "python",
   "nbconvert_exporter": "python",
   "pygments_lexer": "ipython3",
   "version": "3.10.6 (main, Nov 14 2022, 16:10:14) [GCC 11.3.0]"
  },
  "orig_nbformat": 4,
  "vscode": {
   "interpreter": {
    "hash": "916dbcbb3f70747c44a77c7bcd40155683ae19c65e1c03b4aa3499c5328201f1"
   }
  }
 },
 "nbformat": 4,
 "nbformat_minor": 2
}
